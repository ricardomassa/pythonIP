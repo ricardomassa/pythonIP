{
 "cells": [
  {
   "cell_type": "markdown",
   "metadata": {},
   "source": [
    "# Recursão\n",
    "\n",
    "Recursão é a capacidade que uma função tem de ser definida em termos de si própria. \n",
    "\n",
    "    Ou seja, o bloco de comandos na definição da função chama ela mesma\n",
    "\n",
    "Muitos algoritmos são **inerentemente** recursivos e só com dificuldade podem ser programados de forma iterativa\n",
    "\n",
    "    Exemplos: fatorial, fibonacci, ordenação, etc.\n",
    "\n",
    "Antes de programarmos, vamos fazer um exercício de matemática. Como a gente calcula o fatorial de um número? Inicialmente precisamos entender qual é a definição de fatorial:\n",
    "    \n",
    "    O fatorial de um número inteiro positivo N é o produto de N pelo fatorial do antecessor de N e o fatorial de 0 é 1.\n",
    "\n",
    "Vamos calcular 4! (! é o símbolo de fatorial)\n",
    "\n",
    "    Passo 1: 4! = 4 x 3!\n",
    "    Passo 2: 4! = 4 x 3 x 2!\n",
    "    Passo 3: 4! = 4 x 3 x 2 x 1!\n",
    "    Passo 4: 4! = 4 x 3 x 2 x 1 x 0!\n",
    "    Passo 5: 4! = 4 x 3 x 2 x 1 x 1\n",
    "    Passo 6: 4! = 24\n",
    "\n",
    "Perceba na definição escrita de como calcular o fatorial de um número, nós utilizamos a novamente a definição de fatorial. Isto mostra a natureza recursiva do cálculo do fatorial.\n",
    "\n",
    "### OLHA A DICA!\n",
    "\n",
    "Na maioria dos casos os algoritmos recursivos são definidos por duas partes:\n",
    "\n",
    "    1 - CASO BASE: onde não há recursão, respresenta o passo final do cálculo;\n",
    "    2 - PASSO INDUTIVO (ou RECURSIVO): onde há a chamada recursiva.\n",
    "\n",
    "\n",
    "### Prática 1\n",
    "\n",
    "Vamos programar uma função que calcula o fatorial de um número inteiro e positivo em python?\n"
   ]
  },
  {
   "cell_type": "code",
   "execution_count": 1,
   "metadata": {},
   "outputs": [
    {
     "name": "stdout",
     "output_type": "stream",
     "text": [
      "24\n"
     ]
    }
   ],
   "source": [
    "def fatorial(n):\n",
    "    if (n == 0):\n",
    "        return 1\n",
    "    else:\n",
    "        return n * fatorial(n-1)\n",
    "    \n",
    "x = fatorial(4)\n",
    "print(x)"
   ]
  },
  {
   "cell_type": "markdown",
   "metadata": {},
   "source": [
    "### Prática 1 (para refletir)\n",
    "\n",
    "A recursão é um caso especial de iteração (repetição). Por exemplo, o trecho de código\n",
    "\n",
    "    while(b):\n",
    "        p()\n",
    "\n",
    "\n",
    "É equivalente a função recursiva\n",
    "\n",
    "    def fun_rec():\n",
    "        if(b) : \n",
    "            p()\n",
    "            fun_rec()\n",
    "            \n",
    "Vamos escrever os dois códigos e testar o resultado?"
   ]
  },
  {
   "cell_type": "code",
   "execution_count": 27,
   "metadata": {},
   "outputs": [
    {
     "name": "stdout",
     "output_type": "stream",
     "text": [
      "4\n",
      "3\n",
      "2\n",
      "1\n"
     ]
    }
   ],
   "source": [
    "'''\n",
    "n = 3\n",
    "while (n>0):\n",
    "    print(n)\n",
    "    n = n-1\n",
    "'''\n",
    "\n",
    "def frec(n):\n",
    "    if(n>0):\n",
    "        print(n)\n",
    "        frec(n-1)\n",
    "    \n",
    "frec(4)"
   ]
  },
  {
   "cell_type": "markdown",
   "metadata": {},
   "source": [
    "### Exercício 1\n",
    "\n",
    "Defina uma função recursiva produto que calcula o produto de dois números inteiros positivos  usando o operador de soma. **Atenção:** não pode usar os operadores de multiplicação nem comandos de iteração (repetição)!\n",
    "     \n",
    "     "
   ]
  },
  {
   "cell_type": "code",
   "execution_count": 9,
   "metadata": {},
   "outputs": [
    {
     "name": "stdout",
     "output_type": "stream",
     "text": [
      "15\n"
     ]
    }
   ],
   "source": [
    "def produto(a, b):\n",
    "    if(a == 1):\n",
    "        return b\n",
    "    else:\n",
    "        return b + produto(a-1, b)\n",
    "        \n",
    "x = produto(5,3)\n",
    "print(x)"
   ]
  },
  {
   "cell_type": "markdown",
   "metadata": {},
   "source": [
    "### Exercício 2\n",
    "\n",
    "O número de Fibonacci é calculado da seguinte forma:\n",
    "\n",
    "    F(n) = F(n-1) + F(n-2)\n",
    "    F(1) = 1\n",
    "    F(0) = 1\n",
    "\n",
    "Considerando a definição de como calcular um **Número de Fibonacci**, defina uma função recursiva que realiza este cálculo. \n",
    "\n",
    "    Teste sua solução conferindo se o oitavo número de Fibonacci é 21, ou seja, se ao chamar a função que calcula os números de Fibonacci com o parâmetro 7, a mesma retorna o valor 21.\n",
    "\n",
    "Em seguida, altere a solução para imprimir a **Sequencia de Fibonacci** com os 14 primeiros números. O resultado deve ser o mesmo abaixo:\n",
    "\n",
    "    1, 1, 2, 3, 5, 8, 13, 21, 34, 55, 89, 144, 233, 377\n"
   ]
  },
  {
   "cell_type": "code",
   "execution_count": 20,
   "metadata": {},
   "outputs": [
    {
     "name": "stdout",
     "output_type": "stream",
     "text": [
      "[1, 1, 2, 3, 5, 8, 13, 21, 34, 55, 89, 144, 233, 377, 610, 987]\n"
     ]
    }
   ],
   "source": [
    "def fib(n):\n",
    "    if(n==0):\n",
    "        return 1\n",
    "    elif(n==1):\n",
    "        return 1\n",
    "    else:\n",
    "        return fib(n-1) + fib(n-2)\n",
    "    \n",
    "x = []\n",
    "for i in range (0,16):\n",
    "    x.append(fib(i))\n",
    "    \n",
    "print(x)"
   ]
  },
  {
   "cell_type": "markdown",
   "metadata": {},
   "source": [
    "### Dica!\n",
    "\n",
    "Algoritmos recursivos são úteis para manipular estruturas de dados recursivas\n",
    "\n",
    "    Exemplo: listas ligadas, pilhas, árvores, etc. \n",
    "    \n",
    "    \n",
    "    \n",
    "## DEMONSTRAÇÃO \n",
    "\n",
    "Agora vamos fazer uma dem demonstração mais visual de recursão. Usando a biblioteca **turtle** vamos desenhar uma espiral usando recursão.\n",
    "\n",
    "O algoritmo para criar uma espiral é: \n",
    "\n",
    "    1 - Fazer o turtle desenhar uma linha de tamanho X para frente\n",
    "    2 - Girar 90 graus a orientação de desenho do turtle\n",
    "    3 - Repetir os passos 1 e 2 com um valor menor de X enquanto o tamanho da linha (X) for maior que 0\n",
    "    "
   ]
  },
  {
   "cell_type": "code",
   "execution_count": null,
   "metadata": {},
   "outputs": [],
   "source": [
    "import turtle\n",
    "import time\n",
    "\n",
    "myTurtle = turtle.Turtle()\n",
    "myWin = turtle.Screen()\n",
    "\n",
    "\n",
    "def drawSpiral(myTurtle, lineLen):\n",
    "    if lineLen > 0:\n",
    "        myTurtle.forward(lineLen)\n",
    "        myTurtle.right(90)\n",
    "        drawSpiral(myTurtle,lineLen-5)\n",
    "\n",
    "time.sleep(8)\n",
    "drawSpiral(myTurtle,100)\n",
    "myWin.exitonclick()\n"
   ]
  },
  {
   "cell_type": "markdown",
   "metadata": {},
   "source": [
    "\n",
    " \n",
    "\n",
    "\n",
    "\n",
    "\n",
    "\n"
   ]
  }
 ],
 "metadata": {
  "kernelspec": {
   "display_name": "Python 3",
   "language": "python",
   "name": "python3"
  },
  "language_info": {
   "codemirror_mode": {
    "name": "ipython",
    "version": 3
   },
   "file_extension": ".py",
   "mimetype": "text/x-python",
   "name": "python",
   "nbconvert_exporter": "python",
   "pygments_lexer": "ipython3",
   "version": "3.8.3"
  }
 },
 "nbformat": 4,
 "nbformat_minor": 2
}
