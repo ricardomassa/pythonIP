{
 "cells": [
  {
   "cell_type": "markdown",
   "metadata": {},
   "source": [
    "# Aula 03\n",
    "\n",
    "## Tipos primitivos de Python, Entrada de Dados, Formatação da Saída\n",
    "\n",
    "Um **tipo** é um conjunto de valores equipados com um conjunto de operações. Por exemplo, o tipo inteiro possui valores inteiros e podemos realizar operações de soma, subtração, multiplicação e divisão.\n",
    "\n",
    "**Tipos Primitivos** são os tipos que a linguagem já disponibiliza para uso e que não precisam ser definidos. Existem ainda os tipos definidos pelo usuário, que veremos mais adiante."
   ]
  },
  {
   "cell_type": "markdown",
   "metadata": {},
   "source": [
    "### Tipos Numéricos\n",
    "\n",
    "Existem dois tipos numéricos:\n",
    "* integers: \n",
    "    … -1, -2, 0, 1, 2 ...\n",
    "* floats: \n",
    "    - 2.24\n",
    "    - 32.2E-5 (a notação E indica potência de 10: 32.2 * 10^5\n",
    "\n",
    "Em Python, não existem diferentes tamanhos para tipos numéricos, como ocorre em outras linguagens, como C e Java"
   ]
  },
  {
   "cell_type": "markdown",
   "metadata": {},
   "source": [
    "### Tipo Textual - String\n",
    "\n",
    "Um string é um texto formado por um conjunto de símbolos entre:\n",
    "- aspas simples (não existe um tipo específico para armazenamento de char em Python): \n",
    "```python \n",
    "'isso é um string' \n",
    "```\n",
    "- aspas duplas: \n",
    "```python\n",
    "\"isso é um string\"\n",
    "```\n",
    "- aspas triplas (' ou \"): \n",
    "```python\n",
    "'''isso é um string com várias linhas! \n",
    "Dentro de aspas triplas é possível o uso\n",
    "de aspas 'simples' ou \"duplas\", ok?'''\n",
    "```\n",
    "```python\n",
    "\"\"\"aqui também é uma string com \n",
    "várias linhas usando três aspas duplas!\"\"\"\n",
    "```"
   ]
  },
  {
   "cell_type": "code",
   "execution_count": null,
   "metadata": {},
   "outputs": [],
   "source": [
    "print('linhas de cima\\nlinha de baixo')"
   ]
  },
  {
   "cell_type": "code",
   "execution_count": null,
   "metadata": {},
   "outputs": [],
   "source": [
    "print('o tab\\t :')"
   ]
  },
  {
   "cell_type": "code",
   "execution_count": null,
   "metadata": {},
   "outputs": [],
   "source": [
    "print('I\\'m going to study Python:')"
   ]
  },
  {
   "cell_type": "markdown",
   "metadata": {},
   "source": [
    "Alguns exemplos do uso de strings são:\n",
    "- nome e sobrenome\n",
    "- nome de usuário\n",
    "- passwords\n",
    "- endereço postal\n",
    "- endereço de email\n",
    "- mensagens para o usuário\n",
    "\n",
    "Vamos agora aplicar algumas funções para manipulação com Strings.\n",
    "\n",
    "Quando usado em strings, o operador **+** realiza a concatenação dos strings.\n",
    "\n",
    "O operador foi usado no programa abaixo, que deveria imprimir a mensagen:\n",
    "\n",
    "*Bom dia, Augusto!*  \n",
    "*Augusto, o que você deseja hoje?*\n",
    "\n",
    "Teste o programa. Se algo der errado, corrija para que imprima a mensagem desejada."
   ]
  },
  {
   "cell_type": "code",
   "execution_count": null,
   "metadata": {},
   "outputs": [],
   "source": [
    "nome = \"Augusto\"\n",
    "boas_vindas = \"Bom dia,\"\n",
    "pergunta = \"o que você deseja hoje?\"\n",
    "msg_completa = nome + boas_vindas + pergunta\n",
    "print(msg_completa)"
   ]
  },
  {
   "cell_type": "code",
   "execution_count": null,
   "metadata": {},
   "outputs": [],
   "source": [
    "msg = 'Bom dia!'\n",
    "print(msg.title())"
   ]
  },
  {
   "cell_type": "code",
   "execution_count": null,
   "metadata": {},
   "outputs": [],
   "source": [
    "print(msg.upper())"
   ]
  },
  {
   "cell_type": "code",
   "execution_count": null,
   "metadata": {},
   "outputs": [],
   "source": [
    "print(msg.lower())"
   ]
  },
  {
   "cell_type": "code",
   "execution_count": null,
   "metadata": {},
   "outputs": [],
   "source": [
    "msg_palavras = msg.split()\n",
    "print(msg_palavras)"
   ]
  },
  {
   "cell_type": "code",
   "execution_count": null,
   "metadata": {},
   "outputs": [],
   "source": [
    "junta_palavras = ' '.join(msg_palavras)\n",
    "print(junta_palavras)"
   ]
  },
  {
   "cell_type": "code",
   "execution_count": null,
   "metadata": {},
   "outputs": [],
   "source": [
    "junta_palavras = '-'.join(msg_palavras)\n",
    "print(junta_palavras)"
   ]
  },
  {
   "cell_type": "markdown",
   "metadata": {},
   "source": [
    "Existe uma grande variedade de funções disponíveis para manipular strings. Para consultá-las, utilize a opção de autocomplete, que pode ser ativada no Jupyter através do comando a seguir: "
   ]
  },
  {
   "cell_type": "code",
   "execution_count": null,
   "metadata": {},
   "outputs": [],
   "source": [
    "%config IPCompleter.greedy=True"
   ]
  },
  {
   "cell_type": "markdown",
   "metadata": {},
   "source": [
    "Agora, basta digitar o nome da variável que armazena o String seguida de ponto e clicar na tecla tab.\n",
    "![image.png](attachment:image.png)"
   ]
  },
  {
   "cell_type": "markdown",
   "metadata": {},
   "source": [
    "### Formatação da Saída\n",
    "\n",
    "Vamos agora estudar maneira mais sofisticadas para formatar a saída do programa através do método format().\n",
    "\n",
    "Até agora, temos utilizado a seguinte estrutura:"
   ]
  },
  {
   "cell_type": "code",
   "execution_count": null,
   "metadata": {},
   "outputs": [],
   "source": [
    "nome = \"Augusto\"\n",
    "idade = 18\n",
    "print(\"Parabéns, \" + nome + \"! Hoje você completa \" + str(idade) + \" anos!\")"
   ]
  },
  {
   "cell_type": "markdown",
   "metadata": {},
   "source": [
    "Não é uma forma tão interessante de formatar a saída, pois o programador precisa:\n",
    "1. Incluir os operadores de concatenação\n",
    "2. Ter cuidado para inserir espaços corretamente\n",
    "3. Converter explicitamente os tipos numéricos para strings\n",
    "\n",
    "O método `format` ajuda a o programador a evitar essas dificuldades.\n",
    "\n",
    "O código a seguir produzirá o mesmo efeito:"
   ]
  },
  {
   "cell_type": "code",
   "execution_count": null,
   "metadata": {},
   "outputs": [],
   "source": [
    "nome = \"Augusto\"\n",
    "idade = 18\n",
    "print(\"Parabéns, {0}! Hoje você completa {1} anos!\".format(nome,idade))"
   ]
  },
  {
   "cell_type": "markdown",
   "metadata": {},
   "source": [
    "Note que:\n",
    "1. o índice `{0}` inicia em 0; \n",
    "2. o comando `.format(nome,idade)` já converte o valor numérico armazenado em `idade` em um String.\n",
    "\n",
    "Algumas formas alternativas para uso do `format`:"
   ]
  },
  {
   "cell_type": "code",
   "execution_count": null,
   "metadata": {},
   "outputs": [],
   "source": [
    "print(\"Parabéns, {}! Hoje você completa {} anos!\".format(nome,idade))\n",
    "print(\"Parabéns, {n}! {n}, hoje você completa {i} anos!\".format(n=nome,i=idade))\n",
    "print(f\"Parabéns, {nome}! Hoje você completa {idade} anos!\".format(nome,idade))"
   ]
  },
  {
   "cell_type": "markdown",
   "metadata": {},
   "source": [
    "Imprimindo com padrões regionais: "
   ]
  },
  {
   "cell_type": "code",
   "execution_count": null,
   "metadata": {},
   "outputs": [],
   "source": [
    "import locale\n",
    "\n",
    "# configura para a formatação brasileira\n",
    "locale.setlocale(locale.LC_ALL, (\"pt_BR\", \"\"))\n",
    "\n",
    "# cria um dicionário de convenções \n",
    "conv = locale.localeconv()\n",
    "\n",
    "preco = 6543.219\n",
    "\n",
    "print(\"preço do produto (Brasil - 2 casas): {} \"\n",
    "      .format(locale.format_string(\"%.2f\", preco)))\n",
    "\n",
    "# 2 casas decimais e agrupamento de milhares\n",
    "print(\"preço do produto (Brasil - 2 casas + agrupamento de milhares): {} \"\n",
    "      .format(locale.format_string(\"%.2f\", preco, grouping=True)))\n",
    "\n",
    "# cria um dicionário de convenções \n",
    "conv = locale.localeconv()\n",
    "\n",
    "# 2 casas decimais e agrupamento de milhares, moeda local\n",
    "print(\"preço do produto (Brasil - 2 casas + agrupamento de milhares, moeda): {} \"\n",
    "      .format(locale.format_string(\"%s%.2f\", (conv['currency_symbol'], preco), grouping=True)))\n",
    "\n",
    "# configura para a formatação americana\n",
    "locale.setlocale(locale.LC_ALL, (\"en_US\", \"\"))\n",
    "\n",
    "\n",
    "# cria um dicionário de convenções \n",
    "conv = locale.localeconv()\n",
    "\n",
    "# 2 casas decimais e agrupamento de milhares, moeda local\n",
    "print(\"preço do produto (USA    - 2 casas + agrupamento de milhares, moeda): {} \"\n",
    "      .format(locale.format_string(\"%s%.2f\", (conv['currency_symbol'], preco), grouping=True)))\n"
   ]
  },
  {
   "cell_type": "markdown",
   "metadata": {},
   "source": [
    "O comando `print` sempre inclui uma quebra de linhas no final. \n",
    "Para evitar isso, é possível usar o parâmetro `end`."
   ]
  },
  {
   "cell_type": "code",
   "execution_count": null,
   "metadata": {},
   "outputs": [],
   "source": [
    "print(\"Bom dia, \",end='')\n",
    "print(\"Augusto!\",end='')\n",
    "\n",
    "print(\"Bom dia, \",end='')\n",
    "print(\"Augusto!\")\n",
    "\n",
    "print(\"Bom dia, \",end=' ')\n",
    "print(\"Augusto!\")"
   ]
  },
  {
   "cell_type": "markdown",
   "metadata": {},
   "source": [
    "### Entrada de Dados\n",
    "\n",
    "A entrada de dados serve para que o usuário forneça valores para o programa.\n",
    "\n",
    "Os valores fornecidos pelo usuário podem ser armazenados em variáveis, por exemplo:"
   ]
  },
  {
   "cell_type": "code",
   "execution_count": null,
   "metadata": {},
   "outputs": [],
   "source": [
    "nome = input(\"Digite o seu nome: \")\n",
    "print(f\"Bom dia, {nome}!\")"
   ]
  },
  {
   "cell_type": "markdown",
   "metadata": {},
   "source": [
    "O comando `input` sempre lê o valor digitado como uma string."
   ]
  },
  {
   "cell_type": "code",
   "execution_count": null,
   "metadata": {},
   "outputs": [],
   "source": [
    "operando1 = input(\"Digite o primeiro operando: \")\n",
    "operando2 = input(\"Digite o segundo operando: \")\n",
    "resultado = operando1 + operando2\n",
    "print(f\"O resultado é {resultado}\")"
   ]
  },
  {
   "cell_type": "markdown",
   "metadata": {},
   "source": [
    "Se você testar o tipo de operando1 e operando2:"
   ]
  },
  {
   "cell_type": "code",
   "execution_count": null,
   "metadata": {},
   "outputs": [],
   "source": [
    "type(operando1)"
   ]
  },
  {
   "cell_type": "code",
   "execution_count": null,
   "metadata": {},
   "outputs": [],
   "source": [
    "type(operando2)"
   ]
  },
  {
   "cell_type": "markdown",
   "metadata": {},
   "source": [
    "Para efetuar a leitura de valores int e float, temos que forçar a conversão: "
   ]
  },
  {
   "cell_type": "code",
   "execution_count": null,
   "metadata": {},
   "outputs": [],
   "source": [
    "operando1 = int(input(\"Digite o primeiro operando: \"))\n",
    "operando2 = int(input(\"Digite o segundo operando:\"))\n",
    "resultado = operando1 + operando2\n",
    "print(f\"O resultado é {resultado}\")"
   ]
  },
  {
   "cell_type": "markdown",
   "metadata": {},
   "source": [
    "### Exercício\n",
    "Escreva um programa que pede o nome e a idade (inteiro) e peso (double) de uma pessoa e imprime uma mensagem com tais informações. O peso tem que ser impresso com duas casas decimais (utilize pontos como separador decimal).\n",
    "- *Ex: José, 25 anos, pesa 72,18 kg!*"
   ]
  },
  {
   "cell_type": "code",
   "execution_count": null,
   "metadata": {},
   "outputs": [],
   "source": [
    "nome = input(\"Digite seu nome: \")\n",
    "idade = int(input(\"Digite sua idade: \"))\n",
    "peso = float(input(\"Digite seu peso: \"))\n",
    "print(f\"{nome}, {idade}, pesa {peso:0.2f}kg!\")"
   ]
  },
  {
   "cell_type": "code",
   "execution_count": null,
   "metadata": {},
   "outputs": [],
   "source": []
  }
 ],
 "metadata": {
  "kernelspec": {
   "display_name": "Python 3",
   "language": "python",
   "name": "python3"
  },
  "language_info": {
   "codemirror_mode": {
    "name": "ipython",
    "version": 3
   },
   "file_extension": ".py",
   "mimetype": "text/x-python",
   "name": "python",
   "nbconvert_exporter": "python",
   "pygments_lexer": "ipython3",
   "version": "3.7.4"
  },
  "toc": {
   "base_numbering": 1,
   "nav_menu": {},
   "number_sections": true,
   "sideBar": true,
   "skip_h1_title": false,
   "title_cell": "Table of Contents",
   "title_sidebar": "Contents",
   "toc_cell": false,
   "toc_position": {},
   "toc_section_display": true,
   "toc_window_display": false
  }
 },
 "nbformat": 4,
 "nbformat_minor": 2
}
