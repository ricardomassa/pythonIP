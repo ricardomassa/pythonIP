{
 "cells": [
  {
   "cell_type": "markdown",
   "metadata": {},
   "source": [
    "# Aula 03\n",
    "\n",
    "## Tipos primitivos de Python, Entrada de Dados, Formatação da Saída\n",
    "\n",
    "Um **tipo** é um conjunto de valores equipados com um conjunto de operações. Por exemplo, o tipo inteiro possui valores inteiros e podemos realizar operações de soma, subtração, multiplicação e divisão.\n",
    "\n",
    "**Tipos Primitivos** são os tipos que a linguagem já disponibiliza para uso e que não precisam ser definidos. Existem ainda os tipos definidos pelo usuário, que veremos mais adiante.\n",
    "\n",
    "### Tipos Numéricos\n",
    "\n",
    "Existem dois tipos numéricos:\n",
    "* integers: \n",
    "    … -1, -2, 0, 1, 2 ...\n",
    "* floats: \n",
    "    - 2.24\n",
    "    - 32.2E-5 (a notação E indica potência de 10: 32.2 * 10^5\n",
    "\n",
    "Em Python, não existem diferentes tamanhos para tipos numéricos, como ocorre em outras linguagens, como C e Java\n",
    "\n",
    "### Tipo Textual - String\n",
    "\n",
    "Um string é um texto formado por um conjunto de símbolos entre:\n",
    "- aspas simples (não existe um tipo específico para armazenamento de char em Python): \n",
    "```python \n",
    "'isso é um string' \n",
    "```\n",
    "- aspas duplas: \n",
    "```python\n",
    "\"isso é um string\"\n",
    "```\n",
    "- aspas triplas (' ou \"): \n",
    "```python\n",
    "'''isso é um string com várias linhas! \n",
    "Dentro de aspas triplas é possível o uso\n",
    "de aspas 'simples' ou \"duplas\", ok?'''\n",
    "```\n",
    "- ```python"
   ]
  },
  {
   "cell_type": "code",
   "execution_count": 2,
   "metadata": {},
   "outputs": [
    {
     "name": "stdout",
     "output_type": "stream",
     "text": [
      "linhass de cima\n",
      "linha de baixo\n"
     ]
    }
   ],
   "source": [
    "print('linhas de cima\\nlinha de baixo')"
   ]
  },
  {
   "cell_type": "code",
   "execution_count": 11,
   "metadata": {},
   "outputs": [
    {
     "name": "stdout",
     "output_type": "stream",
     "text": [
      "o tab\t :\n"
     ]
    }
   ],
   "source": [
    "print('o tab\\t :')"
   ]
  },
  {
   "cell_type": "code",
   "execution_count": 7,
   "metadata": {},
   "outputs": [
    {
     "data": {
      "text/plain": [
       "\"I'm going to study Python:\""
      ]
     },
     "execution_count": 7,
     "metadata": {},
     "output_type": "execute_result"
    }
   ],
   "source": [
    "print('I\\'m going to study Python:')"
   ]
  },
  {
   "cell_type": "markdown",
   "metadata": {},
   "source": [
    "Alguns exemplos do uso de strings são:\n",
    "- nome e sobrenome\n",
    "- nome de usuário\n",
    "- passwords\n",
    "- endereço postal\n",
    "- endereço de email\n",
    "- mensagens para o usuário\n",
    "\n",
    "Vamos agora aplicar algumas funções para manipulação com Strings.\n",
    "\n",
    "Quando usado em strings, o operador **+** realiza a concatenação dos strings.\n",
    "\n",
    "O operador foi usado no programa abaixo, que deveria imprimir a mensagen:\n",
    "\n",
    "*Bom dia, Augusto!*  \n",
    "*Augusto, o que você deseja hoje?*\n",
    "\n",
    "Teste o programa. Se algo der errado, corrija para que imprima a mensagem desejada."
   ]
  },
  {
   "cell_type": "code",
   "execution_count": 30,
   "metadata": {},
   "outputs": [
    {
     "name": "stdout",
     "output_type": "stream",
     "text": [
      "AugustoBom dia,o que você deseja hoje?\n"
     ]
    }
   ],
   "source": [
    "nome = \"Augusto\"\n",
    "boas_vindas = \"Bom dia,\"\n",
    "pergunta = \"o que você deseja hoje?\"\n",
    "msg_completa = nome + boas_vindas + pergunta\n",
    "print(msg_completa)"
   ]
  },
  {
   "cell_type": "code",
   "execution_count": 25,
   "metadata": {},
   "outputs": [
    {
     "data": {
      "text/plain": [
       "'Bom Dia!'"
      ]
     },
     "execution_count": 25,
     "metadata": {},
     "output_type": "execute_result"
    }
   ],
   "source": [
    "msg = 'Bom dia!'\n",
    "msg.title()"
   ]
  },
  {
   "cell_type": "code",
   "execution_count": 16,
   "metadata": {},
   "outputs": [
    {
     "data": {
      "text/plain": [
       "'BOM DIA'"
      ]
     },
     "execution_count": 16,
     "metadata": {},
     "output_type": "execute_result"
    }
   ],
   "source": [
    "msg.upper()"
   ]
  },
  {
   "cell_type": "code",
   "execution_count": 18,
   "metadata": {},
   "outputs": [
    {
     "data": {
      "text/plain": [
       "'bom dia!'"
      ]
     },
     "execution_count": 18,
     "metadata": {},
     "output_type": "execute_result"
    }
   ],
   "source": [
    "msg.lower()"
   ]
  },
  {
   "cell_type": "code",
   "execution_count": 19,
   "metadata": {},
   "outputs": [
    {
     "data": {
      "text/plain": [
       "['Bom', 'dia!']"
      ]
     },
     "execution_count": 19,
     "metadata": {},
     "output_type": "execute_result"
    }
   ],
   "source": [
    "msg_palavras = msg.split()\n",
    "msg_palavras"
   ]
  },
  {
   "cell_type": "code",
   "execution_count": 20,
   "metadata": {},
   "outputs": [
    {
     "data": {
      "text/plain": [
       "'Bom dia!'"
      ]
     },
     "execution_count": 20,
     "metadata": {},
     "output_type": "execute_result"
    }
   ],
   "source": [
    "junta_palavras = ' '.join(msg_palavras)\n",
    "junta_palavras"
   ]
  },
  {
   "cell_type": "code",
   "execution_count": 21,
   "metadata": {},
   "outputs": [
    {
     "data": {
      "text/plain": [
       "'Bom-dia!'"
      ]
     },
     "execution_count": 21,
     "metadata": {},
     "output_type": "execute_result"
    }
   ],
   "source": [
    "junta_palavras = '-'.join(msg_palavras)\n",
    "junta_palavras."
   ]
  },
  {
   "cell_type": "markdown",
   "metadata": {},
   "source": [
    "Existe uma grande variedade de funções disponíveis para manipular strings. Para consultá-las, utilize a opção de autocomplete, que pode ser ativada no Jupyter através do comando a seguir: "
   ]
  },
  {
   "cell_type": "code",
   "execution_count": 26,
   "metadata": {},
   "outputs": [],
   "source": [
    "%config IPCompleter.greedy=True"
   ]
  },
  {
   "cell_type": "markdown",
   "metadata": {},
   "source": [
    "Agora, basta digitar o nome da variável que armazena o String seguida de ponto e clicar na tecla tab."
   ]
  },
  {
   "attachments": {
    "image.png": {
     "image/png": "[encoded data removed]"
    }
   },
   "cell_type": "markdown",
   "metadata": {},
   "source": [
    "![image.png](attachment:image.png)"
   ]
  },
  {
   "cell_type": "markdown",
   "metadata": {},
   "source": [
    "### Formatação da Saída\n",
    "\n",
    "Vamos agora estudar maneira mais sofisticadas para formatar a saída do programa através do método format\n",
    "\n",
    "Até agora, temos utilizado a seguinte estrutura:"
   ]
  },
  {
   "cell_type": "code",
   "execution_count": 32,
   "metadata": {},
   "outputs": [
    {
     "name": "stdout",
     "output_type": "stream",
     "text": [
      "Parabéns, Augusto! Hoje você completa 18 anos!\n"
     ]
    }
   ],
   "source": [
    "nome = \"Augusto\"\n",
    "idade = 18\n",
    "print(\"Parabéns, \" + nome + \"! Hoje você completa \" + str(idade) + \" anos!\")\n"
   ]
  },
  {
   "cell_type": "markdown",
   "metadata": {},
   "source": [
    "que possui um estilo ruim, requerendo:\n",
    "1. a inclusão de operadores de concatenação\n",
    "2. cuidados para inserir espaços\n",
    "3. conversão explícita para inteiros\n",
    "\n",
    "O método `format` vai remover essas dificuldades.\n",
    "\n",
    "O código a seguir produzirá o mesmo efeito"
   ]
  },
  {
   "cell_type": "code",
   "execution_count": 33,
   "metadata": {},
   "outputs": [
    {
     "name": "stdout",
     "output_type": "stream",
     "text": [
      "Parabéns Augusto! Hoje você completa 18 anos!\n"
     ]
    }
   ],
   "source": [
    "nome = \"Augusto\"\n",
    "idade = 18\n",
    "print(\"Parabéns {0}! Hoje você completa {1} anos!\".format(nome,idade))"
   ]
  },
  {
   "cell_type": "markdown",
   "metadata": {},
   "source": [
    "Note que:\n",
    "1. o ídice `{0}` inicia em 0; \n",
    "2. o comando `.format(nome,idade)` já converte o valor numérico armazenado em `idade` em um String.\n",
    "\n",
    "Algumas formas alternativas para uso do `format`:"
   ]
  },
  {
   "cell_type": "code",
   "execution_count": 35,
   "metadata": {},
   "outputs": [
    {
     "name": "stdout",
     "output_type": "stream",
     "text": [
      "Parabéns Augusto! Hoje você completa 18 anos!\n",
      "Parabéns Augusto! Augusto, hoje você completa 18 anos!\n",
      "Parabéns Augusto! Hoje você completa 18 anos!\n"
     ]
    }
   ],
   "source": [
    "print(\"Parabéns {}! Hoje você completa {} anos!\".format(nome,idade))\n",
    "print(\"Parabéns {n}! {n}, hoje você completa {i} anos!\".format(n=nome,i=idade))\n",
    "print(f\"Parabéns {nome}! Hoje você completa {idade} anos!\".format(nome,idade))"
   ]
  },
  {
   "cell_type": "markdown",
   "metadata": {},
   "source": [
    "Imprimindo com padrões regionais."
   ]
  },
  {
   "cell_type": "code",
   "execution_count": 54,
   "metadata": {},
   "outputs": [
    {
     "name": "stdout",
     "output_type": "stream",
     "text": [
      "preço do produto (Brasil - 2 casas): 6543,22 \n",
      "preço do produto (Brasil - 2 casas + agrupamento de milhares): 6.543,22 \n",
      "preço do produto (Brasil - 2 casas + agrupamento de milhares, moeda): R$6.543,22 \n",
      "preço do produto (USA    - 2 casas + agrupamento de milhares, moeda): $6,543.22 \n"
     ]
    }
   ],
   "source": [
    "import locale\n",
    "\n",
    "# configura para a formatação brasileira\n",
    "locale.setlocale(locale.LC_ALL, (\"pt_BR\", \"\"))\n",
    "\n",
    "# cria um dicionário de convenções \n",
    "conv = locale.localeconv()\n",
    "\n",
    "preco = 6543.219\n",
    "\n",
    "print(\"preço do produto (Brasil - 2 casas): {} \"\n",
    "      .format(locale.format_string(\"%.2f\", preco)))\n",
    "\n",
    "# 2 casas decimais e agrupamento de milhares\n",
    "print(\"preço do produto (Brasil - 2 casas + agrupamento de milhares): {} \"\n",
    "      .format(locale.format_string(\"%.2f\", preco, grouping=True)))\n",
    "\n",
    "# cria um dicionário de convenções \n",
    "conv = locale.localeconv()\n",
    "\n",
    "# 2 casas decimais e agrupamento de milhares, moeda local\n",
    "print(\"preço do produto (Brasil - 2 casas + agrupamento de milhares, moeda): {} \"\n",
    "      .format(locale.format_string(\"%s%.2f\", (conv['currency_symbol'], preco), grouping=True)))\n",
    "\n",
    "# configura para a formatação americana\n",
    "locale.setlocale(locale.LC_ALL, (\"en_US\", \"\"))\n",
    "\n",
    "\n",
    "# cria um dicionário de convenções \n",
    "conv = locale.localeconv()\n",
    "\n",
    "# 2 casas decimais e agrupamento de milhares, moeda local\n",
    "print(\"preço do produto (USA    - 2 casas + agrupamento de milhares, moeda): {} \"\n",
    "      .format(locale.format_string(\"%s%.2f\", (conv['currency_symbol'], preco), grouping=True)))\n"
   ]
  },
  {
   "cell_type": "markdown",
   "metadata": {},
   "source": [
    "O comando `print` sempre inclui uma quebra de linhas no final. Para evitar, é possível usar o parâmetro `end`."
   ]
  },
  {
   "cell_type": "code",
   "execution_count": 39,
   "metadata": {},
   "outputs": [
    {
     "name": "stdout",
     "output_type": "stream",
     "text": [
      "Bom dia, Augusto!Bom dia, Augusto!\n",
      "Bom dia,  Augusto!\n"
     ]
    }
   ],
   "source": [
    "print(\"Bom dia, \",end='')\n",
    "print(\"Augusto!\",end='')\n",
    "\n",
    "print(\"Bom dia, \",end='')\n",
    "print(\"Augusto!\")\n",
    "\n",
    "print(\"Bom dia, \",end=' ')\n",
    "print(\"Augusto!\")"
   ]
  },
  {
   "cell_type": "markdown",
   "metadata": {},
   "source": [
    "### Entrada de Dados\n",
    "\n",
    "A entrada de dados serve para que o usuário forneça valores para o programa\n",
    "\n",
    "Os valores fornecidos pelo usuário podem ser armazenados em variáveis, por exemplo:"
   ]
  },
  {
   "cell_type": "code",
   "execution_count": 42,
   "metadata": {},
   "outputs": [
    {
     "name": "stdout",
     "output_type": "stream",
     "text": [
      "Digite o seu nome: Augusto\n",
      "Bom dia, Augusto!\n"
     ]
    }
   ],
   "source": [
    "nome = input(\"Digite o seu nome: \")\n",
    "print(f\"Bom dia, {nome}!\")"
   ]
  },
  {
   "cell_type": "markdown",
   "metadata": {},
   "source": [
    "O comando `input` sempre converte o valor digitado para string"
   ]
  },
  {
   "cell_type": "code",
   "execution_count": 43,
   "metadata": {},
   "outputs": [
    {
     "name": "stdout",
     "output_type": "stream",
     "text": [
      "Digite o primeiro operando: 3\n",
      "Digite o segundo operando:4\n",
      "O resultado é 34\n"
     ]
    }
   ],
   "source": [
    "operando1 = input(\"Digite o primeiro operando: \")\n",
    "operando2 = input(\"Digite o segundo operando:\")\n",
    "resultado = operando1 + operando2\n",
    "print(f\"O resultado é {resultado}\")"
   ]
  },
  {
   "cell_type": "markdown",
   "metadata": {},
   "source": [
    "Se você testar o tipo de operando1 e operando2:"
   ]
  },
  {
   "cell_type": "code",
   "execution_count": 45,
   "metadata": {},
   "outputs": [
    {
     "data": {
      "text/plain": [
       "str"
      ]
     },
     "execution_count": 45,
     "metadata": {},
     "output_type": "execute_result"
    }
   ],
   "source": [
    "type(operando1)"
   ]
  },
  {
   "cell_type": "code",
   "execution_count": 46,
   "metadata": {},
   "outputs": [
    {
     "data": {
      "text/plain": [
       "str"
      ]
     },
     "execution_count": 46,
     "metadata": {},
     "output_type": "execute_result"
    }
   ],
   "source": [
    "type(operando2)"
   ]
  },
  {
   "cell_type": "markdown",
   "metadata": {},
   "source": [
    "Para efetuar a leitura de valores int e float, temos que forçar a conversão: "
   ]
  },
  {
   "cell_type": "code",
   "execution_count": 47,
   "metadata": {},
   "outputs": [
    {
     "name": "stdout",
     "output_type": "stream",
     "text": [
      "Digite o primeiro operando: 3\n",
      "Digite o segundo operando:4\n",
      "O resultado é 7\n"
     ]
    }
   ],
   "source": [
    "operando1 = int(input(\"Digite o primeiro operando: \"))\n",
    "operando2 = int(input(\"Digite o segundo operando:\"))\n",
    "resultado = operando1 + operando2\n",
    "print(f\"O resultado é {resultado}\")"
   ]
  },
  {
   "cell_type": "markdown",
   "metadata": {},
   "source": [
    "Escreva um programa que pede o nome e a idade (inteiro) e peso (double) de uma pessoa e imprime uma mensagem com tais informações. O peso tem que ser impresso com duas casas decimais (utilize pontos como separador decimal).\n",
    "- *Ex: José, 25 anos, pesa 72,18 kg!*"
   ]
  },
  {
   "cell_type": "code",
   "execution_count": 58,
   "metadata": {},
   "outputs": [
    {
     "name": "stdout",
     "output_type": "stream",
     "text": [
      "Digite seu nome: José\n",
      "Digite sua idade: 25\n",
      "Digite seu peso: 72.18\n",
      "José, 25, pesa 72.18kg!\n"
     ]
    }
   ],
   "source": [
    "nome = input(\"Digite seu nome: \")\n",
    "idade = int(input(\"Digite sua idade: \"))\n",
    "peso = float(input(\"Digite seu peso: \"))\n",
    "print(f\"{nome}, {idade}, pesa {peso:0.2f}kg!\")"
   ]
  },
  {
   "cell_type": "code",
   "execution_count": null,
   "metadata": {},
   "outputs": [],
   "source": []
  }
 ],
 "metadata": {
  "kernelspec": {
   "display_name": "Python 3",
   "language": "python",
   "name": "python3"
  },
  "language_info": {
   "codemirror_mode": {
    "name": "ipython",
    "version": 3
   },
   "file_extension": ".py",
   "mimetype": "text/x-python",
   "name": "python",
   "nbconvert_exporter": "python",
   "pygments_lexer": "ipython3",
   "version": "3.7.3"
  }
 },
 "nbformat": 4,
 "nbformat_minor": 2
}
