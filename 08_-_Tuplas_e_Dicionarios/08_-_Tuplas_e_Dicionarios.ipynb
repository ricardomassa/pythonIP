{
 "cells": [
  {
   "cell_type": "markdown",
   "metadata": {},
   "source": [
    "# Tuplas\n",
    "\n",
    "Tuplas são similares a listas. Ou seja, elas servem para armazenar uma coleção de objetos. Porém, diferente das listas, as tuplas são imutáveis, não permitindo modificar os valores armazenados. Uma consequência dessa propriedade é que muitas das funções disponíveis para listas não podem ser aplicadas em tuplas.\n",
    "\n",
    "O uso de tuplas é recomendado em situações em que existe uma garantia de que os dados armazenados não serão modificados.\n",
    "\n",
    "Para definir uma tupla, utiliza-se um conjunto de objetos entre parênteses (opcional, mas recomendado) e separados por vírgula. \n"
   ]
  },
  {
   "cell_type": "code",
   "execution_count": 6,
   "metadata": {
    "scrolled": true
   },
   "outputs": [
    {
     "name": "stdout",
     "output_type": "stream",
     "text": [
      "O Brasil teve 4 presidentes no século IX.\n",
      "O primeiro presidente do Brasil foi Deodoro da Fonseca.\n",
      "A relação completa de presidentes do século IX é a seguinte:\n",
      "Deodoro da Fonseca\n",
      "Floriano Peixoto\n",
      "Prudente de Morais\n",
      "Campos Sales\n"
     ]
    }
   ],
   "source": [
    "presidentes_BR_sec_IX = ('Deodoro da Fonseca', 'Floriano Peixoto','Prudente de Morais','Campos Sales') \n",
    "print(f'O Brasil teve {len(presidentes_BR_sec_IX)} presidentes no século IX.')\n",
    "print(f'O primeiro presidente do Brasil foi {presidentes_BR_sec_IX[0]}.')\n",
    "print(f'A relação completa de presidentes do século IX é a seguinte:')\n",
    "for presidente in presidentes_BR_sec_IX:\n",
    "    print(presidente)"
   ]
  },
  {
   "cell_type": "code",
   "execution_count": 7,
   "metadata": {},
   "outputs": [
    {
     "ename": "AttributeError",
     "evalue": "'tuple' object has no attribute 'remove'",
     "output_type": "error",
     "traceback": [
      "\u001b[1;31m---------------------------------------------------------------------------\u001b[0m",
      "\u001b[1;31mAttributeError\u001b[0m                            Traceback (most recent call last)",
      "\u001b[1;32m<ipython-input-7-cd92250a14ff>\u001b[0m in \u001b[0;36m<module>\u001b[1;34m\u001b[0m\n\u001b[1;32m----> 1\u001b[1;33m \u001b[0mpresidentes_BR_sec_IX\u001b[0m\u001b[1;33m.\u001b[0m\u001b[0mremove\u001b[0m\u001b[1;33m(\u001b[0m\u001b[1;34m'Campos Sales'\u001b[0m\u001b[1;33m)\u001b[0m\u001b[1;33m\u001b[0m\u001b[1;33m\u001b[0m\u001b[0m\n\u001b[0m",
      "\u001b[1;31mAttributeError\u001b[0m: 'tuple' object has no attribute 'remove'"
     ]
    }
   ],
   "source": [
    "presidentes_BR_sec_IX.remove('Campos Sales')"
   ]
  },
  {
   "cell_type": "markdown",
   "metadata": {},
   "source": [
    "Uma **tupla vazia** pode ser escrita com um par de parênteses  `tupla_vazia = ()`.\n",
    "\n",
    "Porém, é preciso ter cuidado para criar uma tupla com um elemento apenas. Se tentarmos colocar um elemento entre parênteses apenas `tupla_um_elemento = (2)`, Python vai entender que estamos criando uma expressão. O resultado será o inteiro `2`."
   ]
  },
  {
   "cell_type": "code",
   "execution_count": 8,
   "metadata": {},
   "outputs": [
    {
     "name": "stdout",
     "output_type": "stream",
     "text": [
      "2\n"
     ]
    },
    {
     "ename": "TypeError",
     "evalue": "'int' object is not subscriptable",
     "output_type": "error",
     "traceback": [
      "\u001b[1;31m---------------------------------------------------------------------------\u001b[0m",
      "\u001b[1;31mTypeError\u001b[0m                                 Traceback (most recent call last)",
      "\u001b[1;32m<ipython-input-8-1b4e56e8d505>\u001b[0m in \u001b[0;36m<module>\u001b[1;34m\u001b[0m\n\u001b[0;32m      1\u001b[0m \u001b[0mtupla_um_elemento\u001b[0m \u001b[1;33m=\u001b[0m \u001b[1;33m(\u001b[0m\u001b[1;36m2\u001b[0m\u001b[1;33m)\u001b[0m\u001b[1;33m\u001b[0m\u001b[1;33m\u001b[0m\u001b[0m\n\u001b[0;32m      2\u001b[0m \u001b[0mprint\u001b[0m\u001b[1;33m(\u001b[0m\u001b[0mtupla_um_elemento\u001b[0m\u001b[1;33m)\u001b[0m\u001b[1;33m\u001b[0m\u001b[1;33m\u001b[0m\u001b[0m\n\u001b[1;32m----> 3\u001b[1;33m \u001b[0mprint\u001b[0m\u001b[1;33m(\u001b[0m\u001b[0mtupla_um_elemento\u001b[0m\u001b[1;33m[\u001b[0m\u001b[1;36m0\u001b[0m\u001b[1;33m]\u001b[0m\u001b[1;33m)\u001b[0m\u001b[1;33m\u001b[0m\u001b[1;33m\u001b[0m\u001b[0m\n\u001b[0m",
      "\u001b[1;31mTypeError\u001b[0m: 'int' object is not subscriptable"
     ]
    }
   ],
   "source": [
    " tupla_um_elemento = (2)\n",
    "print(tupla_um_elemento) \n",
    "print(tupla_um_elemento[0])"
   ]
  },
  {
   "cell_type": "markdown",
   "metadata": {},
   "source": [
    "Para evitar isso, temos que colocar uma vírgula após o **único** elemento da tupla `tupla_um_elemento = (2,)`."
   ]
  },
  {
   "cell_type": "code",
   "execution_count": 9,
   "metadata": {},
   "outputs": [
    {
     "name": "stdout",
     "output_type": "stream",
     "text": [
      "(2,)\n",
      "2\n",
      "1\n"
     ]
    }
   ],
   "source": [
    "tupla_um_elemento = (2,)\n",
    "print(tupla_um_elemento) \n",
    "print(tupla_um_elemento[0]) \n",
    "print(len(tupla_um_elemento))"
   ]
  },
  {
   "cell_type": "markdown",
   "metadata": {},
   "source": [
    "# Dicionário\n",
    "\n",
    "<img  src=\"./dicionario01.png\" width=\"400\" />\n",
    "\n",
    "Assim como conhecemos em sua forma tradicional, um *dicionário* possui um conjunto de palavras chaves associadas às suas respectivas definições (valores). "
   ]
  },
  {
   "cell_type": "code",
   "execution_count": 12,
   "metadata": {},
   "outputs": [
    {
     "name": "stdout",
     "output_type": "stream",
     "text": [
      "Objeto utilizado para realizar atividades esportivas\n"
     ]
    }
   ],
   "source": [
    "meu_dicionario = {'Família' : '''Conjunto de pessoas que partilham objectivos e valores. \n",
    "Ajudam-se não só nos bons momentos mas também nos maus. \n",
    "Grupo social fundamental para a sociedade. \n",
    "É a base, a estrutura, o amor, o companheirismo. \n",
    "É tudo na vida, sem ela não temos o alicerce que nos ajuda a viver. \n",
    "Estará sempre presente para ti.''',\n",
    "                 'Tempo' : '''Período de momentos, de horas, de dias, de semanas, de meses, de anos etc. \n",
    "no qual os eventos se sucedem, dando-se a noção de presente, passado e futuro''',\n",
    "                  'Bola' : 'Objeto utilizado para realizar atividades esportivas'\n",
    "                 }\n",
    "print(meu_dicionario['Bola'])"
   ]
  },
  {
   "cell_type": "markdown",
   "metadata": {},
   "source": [
    "Esse mesmo conceito é bastante útil para definirmos tipos estruturados, com campos qualificados."
   ]
  },
  {
   "cell_type": "code",
   "execution_count": 13,
   "metadata": {},
   "outputs": [
    {
     "name": "stdout",
     "output_type": "stream",
     "text": [
      "{'nome': 'Heloisa', 'idade': 22, 'curso': 'Direito'}\n"
     ]
    }
   ],
   "source": [
    "estudante = {'nome': 'Heloisa', 'idade' : 22, 'curso' : 'Direito'}\n",
    "\n",
    "print(estudante)"
   ]
  },
  {
   "cell_type": "markdown",
   "metadata": {},
   "source": [
    "Assim como fizemos com ```Família```, podemos acessar um campo qualquer do dicionário ```estudante```. Para isso, usamos a ```chave de acesso``` desejada. Por exemplo, ```nome```."
   ]
  },
  {
   "cell_type": "code",
   "execution_count": 14,
   "metadata": {},
   "outputs": [
    {
     "name": "stdout",
     "output_type": "stream",
     "text": [
      "Heloisa\n"
     ]
    }
   ],
   "source": [
    "print(estudante['nome'])"
   ]
  },
  {
   "cell_type": "markdown",
   "metadata": {},
   "source": [
    "É possível utilizar outros tipos como ```chave de acesso```. Por exemplo, podemos utilizar valores inteiros."
   ]
  },
  {
   "cell_type": "code",
   "execution_count": 15,
   "metadata": {},
   "outputs": [
    {
     "name": "stdout",
     "output_type": "stream",
     "text": [
      "Ayrton Senna\n"
     ]
    }
   ],
   "source": [
    "F1_campeonato_1990 = {1: 'Ayrton Senna', 2: 'Alain Prost', 3: 'Nelson Piquet'}\n",
    "\n",
    "print(F1_campeonato_1990[1])"
   ]
  },
  {
   "cell_type": "markdown",
   "metadata": {},
   "source": [
    "### Chaves inexistentes\n",
    "\n",
    "Se tentarmos acessar uma chave que não foi definida no dicionário, Python gera uma mensagem de erro. Por exemplo, se tentarmos acessar a chave ```fone``` do dicionário ```estudante```, receberemos uma mensagem que indica um ```KeyError```. Ou seja, um erro de acesso à chave."
   ]
  },
  {
   "cell_type": "code",
   "execution_count": 16,
   "metadata": {},
   "outputs": [
    {
     "ename": "KeyError",
     "evalue": "'fone'",
     "output_type": "error",
     "traceback": [
      "\u001b[1;31m---------------------------------------------------------------------------\u001b[0m",
      "\u001b[1;31mKeyError\u001b[0m                                  Traceback (most recent call last)",
      "\u001b[1;32m<ipython-input-16-05c7e7ec8593>\u001b[0m in \u001b[0;36m<module>\u001b[1;34m\u001b[0m\n\u001b[1;32m----> 1\u001b[1;33m \u001b[0mprint\u001b[0m\u001b[1;33m(\u001b[0m\u001b[0mestudante\u001b[0m\u001b[1;33m[\u001b[0m\u001b[1;34m'fone'\u001b[0m\u001b[1;33m]\u001b[0m\u001b[1;33m)\u001b[0m\u001b[1;33m\u001b[0m\u001b[1;33m\u001b[0m\u001b[0m\n\u001b[0m",
      "\u001b[1;31mKeyError\u001b[0m: 'fone'"
     ]
    }
   ],
   "source": [
    "print(estudante['fone'])"
   ]
  },
  {
   "cell_type": "markdown",
   "metadata": {},
   "source": [
    "Para obter uma mensagem de melhor qualidade, que informe o problema com clareza, podemos utilizar o método ```get```, que retorna o valor ```None``` como caso default para acessos a chaves inexistentes."
   ]
  },
  {
   "cell_type": "code",
   "execution_count": 17,
   "metadata": {},
   "outputs": [
    {
     "name": "stdout",
     "output_type": "stream",
     "text": [
      "Heloisa\n",
      "None\n"
     ]
    }
   ],
   "source": [
    "print(estudante.get('nome'))\n",
    "print(estudante.get('fone'))"
   ]
  },
  {
   "cell_type": "markdown",
   "metadata": {},
   "source": [
    "É possível modificar o valor default para os casos de acessos a chaves inexistentes. Por exemplo, poderíamos retornar a mensagem ```chave inexistente```, como demonstrado no exemplo abaixo."
   ]
  },
  {
   "cell_type": "code",
   "execution_count": 18,
   "metadata": {},
   "outputs": [
    {
     "name": "stdout",
     "output_type": "stream",
     "text": [
      "chave inexistente\n"
     ]
    }
   ],
   "source": [
    "print(estudante.get('fone','chave inexistente'))"
   ]
  },
  {
   "cell_type": "markdown",
   "metadata": {},
   "source": [
    "### Adicionar dados ao dicionário\n",
    "\n",
    "Para adicionar novos campos, por exemplo, ```fone``` ao dicionário ```estudante``` basta executar o comando: "
   ]
  },
  {
   "cell_type": "code",
   "execution_count": 19,
   "metadata": {},
   "outputs": [
    {
     "name": "stdout",
     "output_type": "stream",
     "text": [
      "{'nome': 'Heloisa', 'idade': 22, 'curso': 'Direito'}\n",
      "{'nome': 'Heloisa', 'idade': 22, 'curso': 'Direito', 'fone': '9999-9999'}\n"
     ]
    }
   ],
   "source": [
    "estudante = {'nome': 'Heloisa', 'idade' : 22, 'curso' : 'Direito'}\n",
    "\n",
    "print(estudante)\n",
    "\n",
    "estudante['fone'] = '9999-9999'\n",
    "\n",
    "print(estudante)"
   ]
  },
  {
   "cell_type": "markdown",
   "metadata": {},
   "source": [
    "O mesmo resultado é obtido através do comando ```update```:"
   ]
  },
  {
   "cell_type": "code",
   "execution_count": 21,
   "metadata": {},
   "outputs": [
    {
     "name": "stdout",
     "output_type": "stream",
     "text": [
      "{'nome': 'Heloisa', 'idade': 22, 'curso': 'Direito'}\n",
      "{'nome': 'Heloisa', 'idade': 22, 'curso': 'Direito', 'fone': '9999-9999'}\n"
     ]
    }
   ],
   "source": [
    "estudante = {'nome': 'Heloisa', 'idade' : 22, 'curso' : 'Direito'}\n",
    "\n",
    "print(estudante)\n",
    "\n",
    "estudante.update({'fone' : '9999-9999'}) \n",
    "\n",
    "print(estudante)"
   ]
  },
  {
   "cell_type": "markdown",
   "metadata": {},
   "source": [
    "### Atualizar dados do dicionário\n",
    "\n",
    "De maneira similar, podemos atualizar o valor de um campo existente do dicionário. Por exemplo, podemos atualizar a ```idade``` com o comando:"
   ]
  },
  {
   "cell_type": "code",
   "execution_count": 22,
   "metadata": {},
   "outputs": [
    {
     "name": "stdout",
     "output_type": "stream",
     "text": [
      "{'nome': 'Heloisa', 'idade': 22, 'curso': 'Direito'}\n",
      "{'nome': 'Heloisa', 'idade': 23, 'curso': 'Direito'}\n"
     ]
    }
   ],
   "source": [
    "estudante = {'nome': 'Heloisa', 'idade' : 22, 'curso' : 'Direito'}\n",
    "\n",
    "print(estudante)\n",
    "\n",
    "estudante['idade'] = 23\n",
    "\n",
    "print(estudante)"
   ]
  },
  {
   "cell_type": "markdown",
   "metadata": {},
   "source": [
    "O comando ```update``` pode ser utilizado para atualizar/adicionar vários campos simultaneamente.  "
   ]
  },
  {
   "cell_type": "code",
   "execution_count": 23,
   "metadata": {},
   "outputs": [
    {
     "name": "stdout",
     "output_type": "stream",
     "text": [
      "{'nome': 'Heloisa', 'idade': 22, 'curso': 'Direito'}\n",
      "{'nome': 'Rui', 'idade': 11, 'curso': 'Ensino Médio', 'fone': '9999-9999'}\n"
     ]
    }
   ],
   "source": [
    "estudante = {'nome': 'Heloisa', 'idade' : 22, 'curso' : 'Direito'}\n",
    "\n",
    "print(estudante)\n",
    "\n",
    "estudante.update({'nome': 'Rui', 'idade': 11, 'curso': 'Ensino Médio', 'fone' : '9999-9999'}) \n",
    "\n",
    "print(estudante)"
   ]
  },
  {
   "cell_type": "markdown",
   "metadata": {},
   "source": [
    "### Remover dados do dicionário\n",
    "\n",
    "O comando ```del``` remove campos do dicionário. Digamos que queremos remover o campo ```idade``` do dicionário ```estudante```."
   ]
  },
  {
   "cell_type": "code",
   "execution_count": 24,
   "metadata": {},
   "outputs": [
    {
     "name": "stdout",
     "output_type": "stream",
     "text": [
      "{'nome': 'Heloisa', 'idade': 22, 'curso': 'Direito'}\n",
      "{'nome': 'Heloisa', 'curso': 'Direito'}\n"
     ]
    }
   ],
   "source": [
    "estudante = {'nome': 'Heloisa', 'idade' : 22, 'curso' : 'Direito'}\n",
    "\n",
    "print(estudante)\n",
    "\n",
    "del estudante['idade']\n",
    "\n",
    "print(estudante)"
   ]
  },
  {
   "cell_type": "markdown",
   "metadata": {},
   "source": [
    "É possível também **retonar como resultado** o valor que está sendo removido. Para isso, usamos o comando ```pop```."
   ]
  },
  {
   "cell_type": "code",
   "execution_count": 25,
   "metadata": {},
   "outputs": [
    {
     "name": "stdout",
     "output_type": "stream",
     "text": [
      "{'nome': 'Heloisa', 'idade': 22, 'curso': 'Direito'}\n",
      "{'nome': 'Heloisa', 'curso': 'Direito'}\n",
      "22\n"
     ]
    }
   ],
   "source": [
    "estudante = {'nome': 'Heloisa', 'idade' : 22, 'curso' : 'Direito'}\n",
    "\n",
    "print(estudante)\n",
    "\n",
    "idade = estudante.pop('idade')\n",
    "\n",
    "print(estudante)\n",
    "print(idade)"
   ]
  },
  {
   "cell_type": "markdown",
   "metadata": {},
   "source": [
    "### Comandos básicos para dicionários\n",
    "\n",
    "- len(dic) - retorna o número de campos armazenados no dicionário ```dic```;\n",
    "- dic.keys() - retorna todas as chaves do dicionário ```dic```;\n",
    "- dic.values(): retorna todos os valores armazenados no dicionário ```dic```.\n",
    "- dic.items(): retorna todos pares (chave,valor) armazenados no dicionário ```dic```."
   ]
  },
  {
   "cell_type": "code",
   "execution_count": 26,
   "metadata": {},
   "outputs": [
    {
     "name": "stdout",
     "output_type": "stream",
     "text": [
      "3\n",
      "dict_keys(['nome', 'idade', 'curso'])\n",
      "dict_values(['Heloisa', 22, 'Direito'])\n",
      "dict_items([('nome', 'Heloisa'), ('idade', 22), ('curso', 'Direito')])\n"
     ]
    }
   ],
   "source": [
    "estudante = {'nome': 'Heloisa', 'idade' : 22, 'curso' : 'Direito'}\n",
    "\n",
    "print(len(estudante))\n",
    "print(estudante.keys())\n",
    "print(estudante.values())\n",
    "print(estudante.items())"
   ]
  },
  {
   "cell_type": "markdown",
   "metadata": {},
   "source": [
    "### Iterar sobre dicionários\n",
    "\n",
    "Quando usamos o comando ```for``` para iterar sobre um dicionário, temos acesso apenas às chaves. Observe o exemplo a seguir. Apenas as chaves do dicionário ```estudante``` são impressas."
   ]
  },
  {
   "cell_type": "code",
   "execution_count": 27,
   "metadata": {},
   "outputs": [
    {
     "name": "stdout",
     "output_type": "stream",
     "text": [
      "nome\n",
      "idade\n",
      "curso\n"
     ]
    }
   ],
   "source": [
    "estudante = {'nome': 'Heloisa', 'idade' : 22, 'curso' : 'Direito'}\n",
    "\n",
    "for chave in estudante:\n",
    "    print(chave)"
   ]
  },
  {
   "cell_type": "markdown",
   "metadata": {},
   "source": [
    "Se desejarmos ter acesso aos valores, precisamos utilizar o método ```items```, como demonstrado a seguir:"
   ]
  },
  {
   "cell_type": "code",
   "execution_count": 30,
   "metadata": {},
   "outputs": [
    {
     "name": "stdout",
     "output_type": "stream",
     "text": [
      "Heloisa\n",
      "22\n",
      "Direito\n"
     ]
    }
   ],
   "source": [
    "estudante = {'nome': 'Heloisa', 'idade' : 22, 'curso' : 'Direito'}\n",
    "\n",
    "for valor in estudante.values():\n",
    "    print(valor)"
   ]
  }
 ],
 "metadata": {
  "kernelspec": {
   "display_name": "Python 3",
   "language": "python",
   "name": "python3"
  },
  "language_info": {
   "codemirror_mode": {
    "name": "ipython",
    "version": 3
   },
   "file_extension": ".py",
   "mimetype": "text/x-python",
   "name": "python",
   "nbconvert_exporter": "python",
   "pygments_lexer": "ipython3",
   "version": "3.8.3"
  }
 },
 "nbformat": 4,
 "nbformat_minor": 2
}
