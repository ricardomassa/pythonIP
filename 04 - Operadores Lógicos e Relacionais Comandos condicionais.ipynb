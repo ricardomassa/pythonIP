{
 "cells": [
  {
   "cell_type": "markdown",
   "metadata": {},
   "source": [
    "# Aula 04\n",
    "\n",
    "## Operadores Lógicos e Relacionais,  Comandos Condicionais\n",
    "\n",
    "---\n",
    "## Operadores Relacionais\n",
    "\n",
    "\n",
    "<img  src=\"./imagens/operadoresRelacionais.png\" width=\"400\" />\n",
    "\n",
    "---\n",
    "## Operadores Lógicos e Booleanos\n",
    "\n",
    "\n",
    "<img src=\"./imagens/operadoresLogicos.png\" width=\"400\" />\n",
    "\n",
    "---\n",
    "## Tabela Verdade\n",
    "\n",
    "<img src=\"./imagens/tabelaVerdade.png\" width=\"600\" />\n",
    "\n",
    "Teste o valor de *b* e *c* em cada passo:"
   ]
  },
  {
   "cell_type": "code",
   "execution_count": 6,
   "metadata": {},
   "outputs": [
    {
     "name": "stdout",
     "output_type": "stream",
     "text": [
      "True\n",
      "True\n"
     ]
    }
   ],
   "source": [
    "b = True\n",
    "c = not b # b = T; c = F\n",
    "c = not (True or b) and c # b = T; c = F\n",
    "b = c or not(not b) # b = T; c = F\n",
    "b = True or False # b = T; c = F\n",
    "c = True and b # b = T; c = T\n",
    "b = b == c # b = T; c = T\n",
    "print(b)\n",
    "print(c)"
   ]
  },
  {
   "cell_type": "markdown",
   "metadata": {},
   "source": [
    "## Abreviação de Operadores Aritméticos de Atribuição"
   ]
  },
  {
   "cell_type": "code",
   "execution_count": 8,
   "metadata": {},
   "outputs": [
    {
     "data": {
      "text/plain": [
       "7"
      ]
     },
     "execution_count": 8,
     "metadata": {},
     "output_type": "execute_result"
    }
   ],
   "source": [
    "a = 5\n",
    "a += 2\n",
    "a"
   ]
  },
  {
   "cell_type": "code",
   "execution_count": 10,
   "metadata": {},
   "outputs": [
    {
     "ename": "SyntaxError",
     "evalue": "invalid syntax (<ipython-input-10-05e1dbf30c8d>, line 2)",
     "output_type": "error",
     "traceback": [
      "\u001b[1;36m  File \u001b[1;32m\"<ipython-input-10-05e1dbf30c8d>\"\u001b[1;36m, line \u001b[1;32m2\u001b[0m\n\u001b[1;33m    a++\u001b[0m\n\u001b[1;37m       ^\u001b[0m\n\u001b[1;31mSyntaxError\u001b[0m\u001b[1;31m:\u001b[0m invalid syntax\n"
     ]
    }
   ],
   "source": [
    "a = 5\n",
    "a++\n",
    "a"
   ]
  },
  {
   "cell_type": "markdown",
   "metadata": {},
   "source": [
    "Python **não** utiliza o abreviador de incremento `++` e decremento `--` como em outras linguagens, que fazem uso de operações como `for (int i = 0; i < 10; ++i)`. Ao invés disso, em operações desse tipo, Python utiliza o comando a seguir, que veremos mais adiante."
   ]
  },
  {
   "cell_type": "code",
   "execution_count": 11,
   "metadata": {},
   "outputs": [
    {
     "name": "stdout",
     "output_type": "stream",
     "text": [
      "0\n",
      "1\n",
      "2\n",
      "3\n",
      "4\n",
      "5\n",
      "6\n",
      "7\n",
      "8\n",
      "9\n"
     ]
    }
   ],
   "source": [
    " for i in range(0,10):\n",
    "        print(i)\n",
    "    "
   ]
  },
  {
   "cell_type": "markdown",
   "metadata": {},
   "source": [
    "## Precedência de Operadores\n",
    "\n",
    "Assim como aprendemos em nossas aulas de matemática, as expressões a seguir são equivalente e avaliam para 14"
   ]
  },
  {
   "cell_type": "code",
   "execution_count": 12,
   "metadata": {},
   "outputs": [
    {
     "name": "stdout",
     "output_type": "stream",
     "text": [
      "expr1 = 14\n",
      "expr2 = 20\n"
     ]
    }
   ],
   "source": [
    "expr1 = 2 + 3 * 4\n",
    "expr2 = (2 + 3) * 4\n",
    "print(f'expr1 = {expr1}')\n",
    "print(f'expr2 = {expr2}')"
   ]
  },
  {
   "cell_type": "markdown",
   "metadata": {},
   "source": [
    "As linguagens de programação definem uma ordem de avaliação dos operadores, também conhecida como precedência de operadores. Em Python, a ordem de precedência é definida como segue, sendo a **exponenciação** com maior precedência e o **booleano `or`** com menor precedência:\n",
    "\n",
    "1. `**` : Exponenciação\n",
    "2. `+x`, `-x` : Positivo, Negativo\n",
    "3. `*`, `/`, `//`, `%` : Multiplicação, Divisão, Divisão inteira e resto\n",
    "4. `+`, `-` : Adição e subtração\n",
    "5. `<`, `<=`, `>`, `>=`, `!=`, `==`\n",
    "6. `not` : Boolean NOT\n",
    "7. `and` : Boolean AND\n",
    "8. `or` : Boolean OR\n",
    "\n",
    "O uso de parênteses para definir a precedência de operadores possui duas vantagens:\n",
    "1. Torna o programa mais legível, pois não requer conhecimento prévio sobre a precedência de operadores em Python\n",
    "\n",
    "\t`2 + (3 * 4)`\n",
    "    \n",
    "\n",
    "2. Permite modificar a ordem de precedência\n",
    "\n",
    "\t`(2 + 3) * 4`\n",
    "\n",
    "## Expressões Lógicas/Booleanas\n",
    "\n",
    "Estruturas de controle (seleção e repetição) utilizam expressões booleanas para decidir:\n",
    "1. Qual bloco de comandos será executado:\n",
    "\n",
    "```python\n",
    "if EXPRESSAO_BOOLEANA_1:\n",
    "    # bloco 1\n",
    "elif EXPRESSAO_BOOLEANA_2:\n",
    "    # bloco 2\n",
    "else:\n",
    "    # bloco 3\n",
    "```\n",
    "\n",
    "\n",
    "2. Se o bloco de comandos deverá ser repetido:\n",
    "\n",
    "```python\n",
    "while EXPRESSAO_BOOLEANA:\n",
    "    # bloco\n",
    "```\n",
    "            \n",
    "\n",
    "## Comando IF-ELSE\n",
    "\n",
    "<img  src=\"./imagens/comandoIf.png\" width=\"600\" />\n",
    "\n",
    "Vamos escrever um programa que faz a leitura de três números inteiros e imprime o maior dos três.\n"
   ]
  },
  {
   "cell_type": "code",
   "execution_count": null,
   "metadata": {},
   "outputs": [],
   "source": []
  },
  {
   "cell_type": "markdown",
   "metadata": {},
   "source": [
    "### Exercício\n",
    "\n",
    "Escreva um programa para ler um valor real correspondente a uma nota, tal que 0 ≤ nota ≤ 10, e imprimir o conceito equivalente (A, B, C, D ou E), conforme a seguinte tabela:\n",
    "\n",
    "<img  src=\"./imagens/tabelaAula04.png\" width=\"250\" />"
   ]
  },
  {
   "cell_type": "code",
   "execution_count": 20,
   "metadata": {},
   "outputs": [
    {
     "name": "stdout",
     "output_type": "stream",
     "text": [
      "Digite sua nota: 7\n",
      "Conceito B\n"
     ]
    }
   ],
   "source": [
    "nota = float(input('Digite sua nota: '))\n",
    "if(nota >= 8.5):\n",
    "    print('Conceito A')\n",
    "elif (nota >= 7):\n",
    "    print('Conceito B')\n",
    "elif (nota >= 5):\n",
    "    print('Conceito C')\n",
    "elif (nota >= 3):\n",
    "    print('Conceito D')\n",
    "else:\n",
    "    print('Conceito E')"
   ]
  },
  {
   "cell_type": "markdown",
   "metadata": {},
   "source": [
    "## Coerção de Tipos\n",
    "\n",
    "É possível converter um valor de um tipo em outro tipo, desde que faça sentido. Por exemplo, não faria sentido converter o string “Rui” para inteiro. Por outro lado, faria sentido converter o String \"3\" em um valor inteiro.\n",
    "\n",
    "Seguem alguns exemplos de funções que podem ser usadas para fazer converções de valores de um tipo para outro tipo.\n",
    "\n"
   ]
  },
  {
   "cell_type": "code",
   "execution_count": 29,
   "metadata": {},
   "outputs": [
    {
     "ename": "ValueError",
     "evalue": "invalid literal for int() with base 10: 'Rui'",
     "output_type": "error",
     "traceback": [
      "\u001b[1;31m---------------------------------------------------------------------------\u001b[0m",
      "\u001b[1;31mValueError\u001b[0m                                Traceback (most recent call last)",
      "\u001b[1;32m<ipython-input-29-ca9cd8ee9643>\u001b[0m in \u001b[0;36m<module>\u001b[1;34m\u001b[0m\n\u001b[1;32m----> 1\u001b[1;33m \u001b[0mx\u001b[0m \u001b[1;33m=\u001b[0m \u001b[0mint\u001b[0m\u001b[1;33m(\u001b[0m\u001b[1;34m'Rui'\u001b[0m\u001b[1;33m)\u001b[0m\u001b[1;33m\u001b[0m\u001b[1;33m\u001b[0m\u001b[0m\n\u001b[0m",
      "\u001b[1;31mValueError\u001b[0m: invalid literal for int() with base 10: 'Rui'"
     ]
    }
   ],
   "source": [
    "x = int('Rui')\n"
   ]
  },
  {
   "cell_type": "markdown",
   "metadata": {},
   "source": [
    "### Exercício 1\n",
    "\n",
    "Escreva um programa para ler dois valores reais, x e y, correspondentes às coordenadas de um ponto no plano e dizer em que quadrante se encontra, ou se está no eixo-x ou no eixo-y ou se está na origem.\n",
    "\n",
    "<img  src=\"./imagens/coordenadas.png\" width=\"150\" />\n",
    "\n",
    "### Exercício 2\n",
    "\n",
    "Escreva um programa para ler valores para os três lados de um triângulo e dizer o seu tipo (equilátero, isósceles ou escaleno).  \n",
    "\n",
    "### Exercício 3\n",
    "Escreva um programa para ler dois valores reais, correspondentes ao peso e à altura de uma pessoa, e calcular o Índice de Massa Corporal (IMC), pela fórmula: `IMC = peso/altura**2`. Em seguida, dar mensagem conforme a seguinte tabela:\n",
    "\n",
    "\n",
    "<img  src=\"./imagens/Aula04Tabela2.png\" width=\"300\" />\n",
    "\n",
    "\n",
    "\n"
   ]
  }
 ],
 "metadata": {
  "kernelspec": {
   "display_name": "Python 3",
   "language": "python",
   "name": "python3"
  },
  "language_info": {
   "codemirror_mode": {
    "name": "ipython",
    "version": 3
   },
   "file_extension": ".py",
   "mimetype": "text/x-python",
   "name": "python",
   "nbconvert_exporter": "python",
   "pygments_lexer": "ipython3",
   "version": "3.8.3"
  },
  "toc": {
   "base_numbering": 1,
   "nav_menu": {},
   "number_sections": true,
   "sideBar": true,
   "skip_h1_title": false,
   "title_cell": "Table of Contents",
   "title_sidebar": "Contents",
   "toc_cell": false,
   "toc_position": {},
   "toc_section_display": true,
   "toc_window_display": false
  }
 },
 "nbformat": 4,
 "nbformat_minor": 2
}
