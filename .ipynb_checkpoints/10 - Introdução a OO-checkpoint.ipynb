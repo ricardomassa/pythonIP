{
 "cells": [
  {
   "cell_type": "markdown",
   "metadata": {},
   "source": [
    "# Conceitos Básicos de Orientação a Objetos\n",
    "\n",
    "Todos os programas que desenvolvemos até agora são estruturados em torno das funcionalidades esperadas. Ou seja, do comportamento do programa. Para isso, definimos funções e avaliamos se o programa fazia aquilo que desejamos. Infelizemente, essa forma de programar acaba criando uma dependência muito forte entre os elementos (funções) dos nossos programas. Consequentemente, caso uma dessas funçoes tenha que ser modificada (e isso acontece com muita frequência) temos que revisar todo o programa e não apenas aquela função.\n",
    "\n",
    "Como resolver esse problema? <img  src=\"./imagens/imoji duvida.png\" width=\"50\" />\n",
    "\n",
    "\n",
    "## Modularidade\n",
    "\n",
    "A solução para esse problema passa por um conceito chamado de *modularidade*, que busca *desacoplar* as partes do programa. Isso permite, por exemplo, diminuir a dependência entre as funções de um programa. Assim, caso seja feita alguma modificação em um determinado código, haverá pouca ou nenhuma necessidade de mudança em outras partes do programa. \n",
    "\n",
    "Dentre as vantagens da *modularidade* podemos citar algumas:\n",
    "    \n",
    "   - o código pode *evoluir* mais rapidamente, pois o impacto das mudanças ficam isoladas dentro do módulo;\n",
    "   - facilidade de entendedimento do código;\n",
    "   - é mais fácil detectar um erro isolado em um módulo do que identificar um erro que pode estar em qualquer parte do programa;\n",
    "   - diferentes módulos podem ser desenvolvidos por equipes idependentes de programadores;\n",
    "   - reuso de código.\n",
    "\n",
    "## Objeto\n",
    "\n",
    "A chamada Programação Orientada a Objetos (POO) é uma técnica que busca explorar o conceito de modularide. Ela estrutura programas em um conjunto de componentes, chamados *objetos*, que possuem:\n",
    "    \n",
    "   - **comportamentos**: *consultar nome, modificar nome, elevar/reduzir preço, incluir/remover produto do estoque, acelerar/descelerar, etc*;\n",
    "   \n",
    "   - **propriedades**: *nome, endereço, idade, curso, nota, código, preço, título, autor, marca, cor, tipo de motor, etc*.\n",
    "\n",
    "As propriedades são chamadas de **atributos**. Por exemplo, um carro pode ter *comportamentos* com acelerar e desacelerar e *atributos* como sua velocidade, cor, tipo de motor, etc.\n",
    "\n",
    "<img  src=\"./imagens/OO Carros1.png\" width=\"700\" />\n",
    "\n",
    "Conjuntamente, tais comportamentos e atributos representam uma *abstração* de algum componente de um sistema (objeto) que pode interagir com outros componentes (objetos) desse sistema.\n",
    "\n",
    "Alguns exemplos de objetos:\n",
    "\n",
    "<img  src=\"./imagens/OO Exemplos.png\" width=\"500\" />\n",
    "\n",
    "### Exemplo: objeto conta bancária\n",
    "\n",
    "Vamos uitilizar o objeto *Conta Bancária* (Conta) para apresentar conceitos de orientação a objetos durante este curso.\n",
    "\n",
    "Uma Conta possui\n",
    "\n",
    "   - 2 atributos: *número* (número da conta) e *saldo* (saldo da conta)\n",
    "   - 2 comportamentos: *creditar* (adiciona um valor ao saldo da conta) e *debitar* (subtrai um valor do saldo da conta)\n",
    "\n",
    "<img  src=\"./imagens/OO Conta01.png\" width=\"400\" />\n",
    "\n",
    "#### Ativando a execução de um comportamento do objeto\n",
    "\n",
    "Os dois comportamentos fazem parte da interface do objeto Conta. Assim, outros objetos que compõem o sistema podem enviar *mensagens* direcionadas para as interfaces do objeto Conta para solicitar que o ele ative a execução da ação associada a um determinado comportamento.\n",
    "\n",
    "<img  src=\"./imagens/OO Conta02.png\" width=\"350\" />\n",
    "\n",
    "#### Mudança de estado do objeto\n",
    "\n",
    "Caso um objeto *Cliente* envie uma mensagem direcionada para a interface *creditar* de *Conta*, a ação relacionada ao comportamento *creditar* será executada. No caso particular de *creditar* é necessário que o solicitante informe o valor (R\\$ 20,00, por exemplo), que deseja creditar. Após a execução de *creditar(20)* o valor associado ao atributo *saldo* será adicionado de R$ 20,00. Ou seja, o objeto Conta *mudou de estado* após a execução de *creditar*, pois o valor associado a um de seus atributos (*saldo*) foi alterado.\n",
    "\n",
    "<img  src=\"./imagens/OO Conta03.png\" width=\"600\" />\n",
    "\n",
    "## Classe\n",
    "\n",
    "Em linguagem de programação, um *tipo* denota um conjunto de valores equipado com um conjunto de operações. Por exemplo, se definirmos uma varável do tipo inteiro, ela poderá armazenar valores inteiros em um determinado intervalo [menor valor inteiro negativo - maior valor inteiro positivo]. A variável está equipada com um conjunto de operações (ex: soma, subtração, multiplicaçã e divisão), que podem atuar sobre esses valores.\n",
    "\n",
    "De forma similar, precisamos definir o *tipo* de um objeto. Esse tipo, define o conjunto de valores que podem ser armazenados nos diversos atributos do objeto e as operações (comportamentos) que esse objeto pode realizar. \n",
    "\n",
    "Na programação orientada a objetos, chamamos de **classe** o tipo definido para um objeto. Da mesma maneira que podemos definir diversas variáveis do tipo inteiro, podemos definir diversas variáveis do tipo *Conta*. Cada um com valores próprios para os atributos *saldo* e *número*. Por outro lado, todas as contas são equipadas com o mesmo conjunto de operações (comportamentos).\n",
    "\n",
    "<img  src=\"./imagens/OO classes.png\" width=\"500\" />\n",
    "\n",
    "\n",
    "\n",
    "### Declarando uma Classe\n",
    "\n",
    "Vamos então definir uma classe, que possui a seguinte especificação:\n",
    "\n",
    "   - aplicação bancária que deverá armazenar os dados de todas as contas correntes de um banco;\n",
    "   - as contas têm saldo e número e podem realizar créditos e débitos.\n",
    "\n",
    "A palavra reservada ``class``, seguida pelo nome da classe, é utilizada para declarar uma classe. O nome da classe deve iniciar com letra maiúscula:\n",
    "\n",
    "```python\n",
    "class Conta:\n",
    "```\n",
    "\n",
    "O próximo passo é definir os atributos *saldo* e *numero* da conta. Em Python, isso é feito dentro de uma função especial, que é executada no momento que um objeto é criado. Essa função é responsável por inicializar os valores dos atributos. Em linguagens orientadas a objetos, chamamos essa categoria de funções de **construtor**, pois ela é executada no ato da criação do objeto a partir da classe.\n",
    "\n",
    "#### Atributos & Construtor\n",
    "\n",
    "Python utiliza a palavra reservada ``__init__`` para designar o nome da função especial (**construtor**), que declara e inicializa os atributos de um objeto. "
   ]
  },
  {
   "cell_type": "code",
   "execution_count": 114,
   "metadata": {},
   "outputs": [],
   "source": [
    "class Conta:\n",
    "    def __init__(self, numero, saldo):\n",
    "        self.numero = numero\n",
    "        self.saldo = saldo"
   ]
  },
  {
   "cell_type": "markdown",
   "metadata": {},
   "source": [
    "A palavra ``self``  é utilizada para referenciar o objeto que está sendo criado. Assim, quando realizamos a operação, dentro do construtor:\n",
    "\n",
    "```python\n",
    "        self.numero = numero\n",
    "```\n",
    "estamos atribuindo o valor do *parâmetro numero*, passado para o construtor, ao *atributo numero* (``self.numero``) do objeto que está sendo criado.\n",
    "\n",
    "Muito embora o nome do construtor seja ``__init__``, para criar um objeto a partir da classe, deve-se utilizar o nome da própria classe (``Conta``), passando como parâmetro a lista de parâmetros (*saldo* e *numero*) especificada no construtor.\n",
    "\n",
    "**Atenção**: a palavra reservada ``self``, que aparece na lista de parâmetros do construtor (``__init__``), não é passada como parâmetro quando um objeto estiver sendo criado. \n",
    "\n",
    "O código a seguir, cria um objeto a partir da classe *Conta*. O número da nova conta é *1234* e seu o *saldo* inicial é igual a *R$ 0,00*. O objeto criado é armazenado na variável chamada *conta*. Observe que a ordem dos parâmetros deve respeitar a ordem definida no construtor. O primeiro parâmetro deve ser o número da conta e o segundo deve ser o saldo inicial."
   ]
  },
  {
   "cell_type": "code",
   "execution_count": 115,
   "metadata": {},
   "outputs": [],
   "source": [
    "conta = Conta('123-x',0.00)"
   ]
  },
  {
   "cell_type": "markdown",
   "metadata": {},
   "source": [
    "Em programação orientada a objetos, para dizermos que o objeto *conta* foi criado a partir da classe *Conta*, dizemos que o objeto *conta* é uma **instância** da classe *Conta*.\n",
    "\n",
    "Agora que criamos o objeto *conta*, podemos acessar seus atributos utilizando o operador ``.``, como demonstrado a seguir:"
   ]
  },
  {
   "cell_type": "code",
   "execution_count": 116,
   "metadata": {},
   "outputs": [
    {
     "name": "stdout",
     "output_type": "stream",
     "text": [
      "Número:  123-x\n",
      "Saldo: R$ 0.0\n"
     ]
    }
   ],
   "source": [
    "print('Número: ', conta.numero)\n",
    "print('Saldo: R$', conta.saldo)"
   ]
  },
  {
   "cell_type": "markdown",
   "metadata": {},
   "source": [
    "#### Métodos\n",
    "\n",
    "O próximo passo para definição da classe é a implementação de seus comportamentos, que são definidos através de um conjunto de funções, que chamamos de **métodos**. \n",
    "\n",
    "No caso da classe *Conta*, teremos os métodos *creditar* e *debitar*. Ambos os métodos recebem como parâmetro o valor a ser creditado/debitado:"
   ]
  },
  {
   "cell_type": "code",
   "execution_count": 117,
   "metadata": {},
   "outputs": [],
   "source": [
    "class Conta:\n",
    "    def __init__(self, numero, saldo):\n",
    "        self.numero = numero\n",
    "        self.saldo = saldo\n",
    "        \n",
    "    def creditar(self, valor):\n",
    "        self.saldo += valor\n",
    "        \n",
    "    def debitar(self, valor):\n",
    "        self.saldo -= valor"
   ]
  },
  {
   "cell_type": "markdown",
   "metadata": {},
   "source": [
    "#### Testando a Classe\n",
    "\n",
    "Para testar a classe *Conta*, vamos criar um objeto e armazená-lo na variável *conta*. Em seguida, vamos realizar algumas operações de crédito e débito e visualizar o resultado. \n",
    "\n",
    "<img  src=\"./imagens/OO Conta04.png\" width=\"700\" />\n",
    "\n",
    "\n",
    "Para visualizar o valor dos atributos de cada conta, utilizaremos a função ``vars``, que gera um dicionário de atributos do objeto.\n",
    "\n",
    "**Obs:** ``vars`` é equivalente ao *método mágico* ``__dict__``, que veremos mais adiante. \n",
    "\n",
    "```python\n",
    "vars(conta_1) é equivalente a  conta_1.__dict__\n",
    "```"
   ]
  },
  {
   "cell_type": "code",
   "execution_count": 118,
   "metadata": {},
   "outputs": [
    {
     "name": "stdout",
     "output_type": "stream",
     "text": [
      "VALOR INICIAL\n",
      "{'numero': '123-x', 'saldo': 0.0}\n",
      "-------------------\n",
      "APÓS CRÉDITO\n",
      "{'numero': '123-x', 'saldo': 20.0}\n",
      "-------------------\n",
      "APÓS DÉBITO\n",
      "{'numero': '123-x', 'saldo': 15.0}\n"
     ]
    }
   ],
   "source": [
    "# criando os objeto\n",
    "conta= Conta('123-x',0.00)\n",
    "\n",
    "print('VALOR INICIAL')\n",
    "print(vars(conta))\n",
    "print('-------------------')\n",
    "\n",
    "# realizando crédito em conta\n",
    "conta.creditar(20.0)\n",
    "\n",
    "print('APÓS CRÉDITO')\n",
    "print(vars(conta))\n",
    "print('-------------------')\n",
    "\n",
    "# realizando débito em conta\n",
    "conta.debitar(5.0)\n",
    "\n",
    "print('APÓS DÉBITO')\n",
    "print(vars(conta))"
   ]
  },
  {
   "cell_type": "markdown",
   "metadata": {},
   "source": [
    "## Encapsulamento\n",
    "\n",
    "*Objetos* podem ser vistos como *cápsulas*, dentro das quais estão as implementações dos *comportamentos* e o espaço de memória para armazenamento das *propriedades*. O espaço de memória e as implementações ficam protegidos dentro da cápsula e não podem ser acessados diretamente pelo código externo a essa cápsula. Tudo que o código externo pode ver são as *interfaces* do objeto.\n",
    "\n",
    "A interface é um canal, atravé do qual, o objeto oferece serviços. \n",
    "\n",
    "Essa camada de proteção eleva o nível de *desacoplamento* dos objetos, pois, se um código externo não pode acessar os dados ou implementações de um objeto, ele terá menos chances de ser afetado por mudanças na implementação ou na forma como esses dados estão armazenados. \n",
    "\n",
    "Imagine, por exemplo, um objeto *biblioteca* que tem um atributo para armazenar uma coleção de livros. Se a coleção de livros estava armazenada em uma lista e, por alguma razão, houve uma mudança na implementação do objeto, que passou a armazenar a coleção de livros em um dicionário, os objetos externos não serão afetados quando houver uma consulta a um determinado livro. Isso ocorre porque tudo que o objeto externo enxerga é a interface. Quando ele enviar uma mensagem para consultar a disponibilidade de algum livro, a resposta continuará a ser sim ou não, independente de como a coleção de livros está armazenada internamente no objeto *biblioteca*.\n",
    "\n",
    "Além disso, o encapsulamento ajuda a garantir que o estado do objeto se mantenha consistente. Por exemplo, no caso do objeto *conta*, o atributo *saldo* só deve ser modificado por meio dos métodos *creditar* e *debitar*, que fazem parte da interface. Do contrário, seria possível aumentar ou reduzir o valor do saldo de maneira aleatória e o extrato da conta ficaria inconsistente. Portanto, nenhum objeto externo deve conseguir acessar diretamente o saldo. Todo acesso deve ser feito *através* das interfaces do objeto.\n",
    "\n",
    "Vamos verificar se a classe *Conta* que definimos restringiu o acesso externo a seus atributos.\n"
   ]
  },
  {
   "cell_type": "code",
   "execution_count": 119,
   "metadata": {},
   "outputs": [
    {
     "data": {
      "text/plain": [
       "0.0"
      ]
     },
     "execution_count": 119,
     "metadata": {},
     "output_type": "execute_result"
    }
   ],
   "source": [
    "# criando os objetos\n",
    "conta = Conta('123-x',0.00)\n",
    "\n",
    "#acessando o saldo \n",
    "conta.saldo"
   ]
  },
  {
   "cell_type": "markdown",
   "metadata": {},
   "source": [
    "Ops...parece que não! O saldo do objeto *conta_1* foi acessado sem maiores dificuldades.\n",
    "\n",
    "## Modificador de Acesso\n",
    "\n",
    "Em algumas linguagens, como Java e C#, utiliza-se o modificador de acesso *private* para impedir o acesso externo aos atributos. Para obter resultado similar, Python usa o símbolo de underscore antes do nome do atributo:"
   ]
  },
  {
   "cell_type": "code",
   "execution_count": 131,
   "metadata": {},
   "outputs": [],
   "source": [
    "class Conta:\n",
    "    def __init__(self, numero, saldo):\n",
    "        self.__numero = numero\n",
    "        self.__saldo = saldo\n",
    "        \n",
    "    def creditar(self, valor):\n",
    "        self.__saldo += valor\n",
    "        \n",
    "    def debitar(self, valor):\n",
    "        self.__saldo -= valor\n",
    "        \n",
    "# criando os objetos\n",
    "conta = Conta('123-x',0.00)"
   ]
  },
  {
   "cell_type": "markdown",
   "metadata": {},
   "source": [
    "Agora, se tentarmos acessar o saldo, Python emitirá uma mensagem de erro, informando que o atributo *saldo* não existe."
   ]
  },
  {
   "cell_type": "code",
   "execution_count": 129,
   "metadata": {},
   "outputs": [
    {
     "data": {
      "text/plain": [
       "0.0"
      ]
     },
     "execution_count": 129,
     "metadata": {},
     "output_type": "execute_result"
    }
   ],
   "source": [
    "conta._saldo"
   ]
  },
  {
   "cell_type": "markdown",
   "metadata": {},
   "source": [
    "Apesar do alerta emitido, o Python não tem uma forma de impedir completamente o acesso aos atributos que queríamos proteger. Pois, o que Python fez quando colocamos o prefixo ``__`` foi renomear o atributo *__nome_atributo* para *_nome_classe__nome_atributo*. \n",
    "\n",
    "<img  src=\"./imagens/OO Conta05.png\" width=\"400\" />\n",
    "\n",
    "De fato, se utilizarmos a função ``dir`` para pesquisar os atributos de *conta*, observaremos que o atributo  *__saldo* não existe, mas o atributo *_Conta__saldo* existe e pode ser acessado livremente para leitura e escrita."
   ]
  },
  {
   "cell_type": "code",
   "execution_count": 171,
   "metadata": {},
   "outputs": [
    {
     "data": {
      "text/plain": [
       "['_Conta__numero',\n",
       " '_Conta__saldo',\n",
       " '__class__',\n",
       " '__delattr__',\n",
       " '__dict__',\n",
       " '__dir__',\n",
       " '__doc__',\n",
       " '__eq__',\n",
       " '__format__',\n",
       " '__ge__',\n",
       " '__getattribute__',\n",
       " '__gt__',\n",
       " '__hash__',\n",
       " '__init__',\n",
       " '__init_subclass__',\n",
       " '__le__',\n",
       " '__lt__',\n",
       " '__module__',\n",
       " '__ne__',\n",
       " '__new__',\n",
       " '__reduce__',\n",
       " '__reduce_ex__',\n",
       " '__repr__',\n",
       " '__setattr__',\n",
       " '__sizeof__',\n",
       " '__str__',\n",
       " '__subclasshook__',\n",
       " '__weakref__',\n",
       " 'creditar',\n",
       " 'debitar',\n",
       " 'get_numero',\n",
       " 'get_saldo',\n",
       " 'set_numero',\n",
       " 'set_saldo']"
      ]
     },
     "execution_count": 171,
     "metadata": {},
     "output_type": "execute_result"
    }
   ],
   "source": [
    "dir(conta)"
   ]
  },
  {
   "cell_type": "code",
   "execution_count": 127,
   "metadata": {},
   "outputs": [
    {
     "name": "stdout",
     "output_type": "stream",
     "text": [
      " Saldo antes: R$ 0.0\n",
      "Saldo depois: R$ 1000000.0\n"
     ]
    }
   ],
   "source": [
    "# Leitura direta do saldo\n",
    "print(' Saldo antes: R$',conta._Conta__saldo)\n",
    "\n",
    "# Escrita direta no saldo\n",
    "conta._Conta__saldo = 1000000.00\n",
    "\n",
    "# Leitura direta do saldo\n",
    "print('Saldo depois: R$',conta._Conta__saldo)"
   ]
  },
  {
   "cell_type": "markdown",
   "metadata": {},
   "source": [
    "Embora seja sempre possível acessar o atributo, tal acesso é considerado *má prática* e **deve ser evitado a qualquer custo**.\n",
    "\n",
    "### Getters & Setters vs Decorators\n",
    "\n",
    "Várias linguagens de programação, como Java e C#, definem métodos específicos para acessar (*get*) e modificar (*set*) os atributos. Tal estratégia evita o acesso direto ao atributo. Vamos exemplificar com a classe *Conta*."
   ]
  },
  {
   "cell_type": "code",
   "execution_count": 142,
   "metadata": {},
   "outputs": [],
   "source": [
    "class Conta:\n",
    "    def __init__(self, numero, saldo):\n",
    "        self.__numero = numero\n",
    "        self.__saldo = saldo\n",
    "        \n",
    "    def creditar(self, valor):\n",
    "        self.__saldo += valor\n",
    "        \n",
    "    def debitar(self, valor):\n",
    "        self.__saldo -= valor\n",
    "        \n",
    "    def get_numero(self):\n",
    "        return self.__numero\n",
    "    \n",
    "    def set_numero(self, numero):\n",
    "        self.__numero = numero\n",
    "    \n",
    "    def get_saldo(self):\n",
    "        return self.__saldo\n",
    "    \n",
    "    def set_saldo(self, valor):\n",
    "        self.__saldo = valor"
   ]
  },
  {
   "cell_type": "markdown",
   "metadata": {},
   "source": [
    "Vamos agora testar a nova classe:"
   ]
  },
  {
   "cell_type": "code",
   "execution_count": 143,
   "metadata": {},
   "outputs": [
    {
     "name": "stdout",
     "output_type": "stream",
     "text": [
      "Número:  123-x\n",
      "Saldo:  0.0\n",
      "-----------------\n",
      "Número:  456-y\n",
      "Saldo:  500.0\n",
      "-----------------\n"
     ]
    }
   ],
   "source": [
    "conta = Conta('123-x',0.0)\n",
    "print('Número: ',conta.get_numero())\n",
    "print('Saldo: ',conta.get_saldo())\n",
    "print('-----------------')\n",
    "conta.set_numero('456-y')\n",
    "conta.set_saldo(500.0)\n",
    "print('Número: ',conta.get_numero())\n",
    "print('Saldo: ',conta.get_saldo())\n",
    "print('-----------------')"
   ]
  },
  {
   "cell_type": "markdown",
   "metadata": {},
   "source": [
    "**Obs:** observe que não faz sentido criar um método para modificar o *saldo* diretamente, pois ele só deve ser modificado por meio dos métodos *debitar* e *creditar*; da mesma forma, não faz sentido modificar o número da conta, que é o identificador do objeto e deve ser mantido o mesmo durante todo tempo de vida do objeto; *vamos ignorar esses aspectos relevantes, por hora*. \n",
    "\n",
    "Imagine agora uma nova situação. Temos duas contas (*conta_a* e *conta_b*) e queremos implementar uma operação de transferência do saldo total dessas contas para uma terceira conta (*conta_c*). Utilizando os métodos *get* e *set* poderíamos fazer:"
   ]
  },
  {
   "cell_type": "code",
   "execution_count": 150,
   "metadata": {},
   "outputs": [
    {
     "name": "stdout",
     "output_type": "stream",
     "text": [
      "conta_a:  {'_Conta__numero': '123-x', '_Conta__saldo': 15.0}\n",
      "conta_b:  {'_Conta__numero': '456-y', '_Conta__saldo': 30.0}\n",
      "conta_c:  {'_Conta__numero': '789-z', '_Conta__saldo': 0.0}\n",
      "--------------------\n",
      "conta_a:  {'_Conta__numero': '123-x', '_Conta__saldo': 0.0}\n",
      "conta_b:  {'_Conta__numero': '456-y', '_Conta__saldo': 0.0}\n",
      "conta_c:  {'_Conta__numero': '789-z', '_Conta__saldo': 45.0}\n"
     ]
    }
   ],
   "source": [
    "# criando as contas\n",
    "conta_a = Conta('123-x',0.0)\n",
    "conta_b = Conta('456-y',0.0)\n",
    "conta_c = Conta('789-z',0.0)\n",
    "\n",
    "# creditando nas contas \n",
    "conta_a.creditar(15.00)\n",
    "conta_b.creditar(30.00)\n",
    "\n",
    "# verificando os dados das contas\n",
    "print('conta_a: ',vars(conta_a))\n",
    "print('conta_b: ',vars(conta_b))\n",
    "print('conta_c: ',vars(conta_c))\n",
    "print('--------------------')\n",
    "\n",
    "# transferindo os saldos de conta_a e conta_b para conta_c\n",
    "conta_c.set_saldo(conta_a.get_saldo() + conta_b.get_saldo())\n",
    "conta_a.debitar(conta_a.get_saldo())\n",
    "conta_b.debitar(conta_b.get_saldo())\n",
    "\n",
    "# verificando os dados das contas\n",
    "print('conta_a: ',vars(conta_a))\n",
    "print('conta_b: ',vars(conta_b))\n",
    "print('conta_c: ',vars(conta_c))"
   ]
  },
  {
   "cell_type": "markdown",
   "metadata": {},
   "source": [
    "Defensores do Python, alegam que esse código é muito difícil de ler e escrever e sugerem simplificar o código:\n",
    "\n",
    "```python\n",
    "conta_c.set_saldo(conta_a.get_saldo() + conta_b.get_saldo())\n",
    "conta_a.debitar(conta_a.get_saldo())\n",
    "conta_b.debitar(conta_b.get_saldo())\n",
    "```\n",
    "para:\n",
    "```python\n",
    "conta_c.saldo = conta_a.saldo + conta_b.saldo\n",
    "conta_a.debitar(conta_a.saldo)\n",
    "conta_b.debitar(conta_b.saldo)\n",
    "```\n",
    "Mas isso traria de volta o problema de acessar direto os atributos da classe.\n",
    "\n",
    "Python resolve esse problema com um padrão de projeto de software conhecido como *decorator*, que utiliza *funções de alta ordem* para adicionar comportamentos a objetos dinamicamente. Aqui, vamos decorar as classes Python com funcionalidades para *leitura*, *escrita* e até mesmo *remoção* de um atributo."
   ]
  },
  {
   "cell_type": "code",
   "execution_count": 183,
   "metadata": {},
   "outputs": [],
   "source": [
    "class Conta:\n",
    "    def __init__(self, numero, saldo):\n",
    "        self.__numero = numero\n",
    "        self.__saldo = saldo\n",
    "        \n",
    "    def creditar(self, valor):\n",
    "        self.__saldo += valor\n",
    "        \n",
    "    def debitar(self, valor):\n",
    "        self.__saldo -= valor\n",
    "\n",
    "    @property\n",
    "    def numero(self):\n",
    "        return self.__numero\n",
    "\n",
    "    @numero.setter\n",
    "    def numero(self, numero):\n",
    "        self.__numero = numero\n",
    "    \n",
    "    @numero.deleter\n",
    "    def numero(self):\n",
    "        del self.__numero\n",
    "    \n",
    "    @property\n",
    "    def saldo(self):\n",
    "        return self.__saldo    \n",
    "\n",
    "    @saldo.setter\n",
    "    def saldo(self, saldo):\n",
    "        print('alterou o saldo com o saldo.setter!')\n",
    "        self.__saldo = saldo\n",
    "    \n",
    "    @saldo.deleter\n",
    "    def saldo(self):\n",
    "        del self.__saldo"
   ]
  },
  {
   "cell_type": "markdown",
   "metadata": {},
   "source": []
  },
  {
   "cell_type": "code",
   "execution_count": 172,
   "metadata": {},
   "outputs": [
    {
     "name": "stdout",
     "output_type": "stream",
     "text": [
      "conta_a:  {'_Conta__numero': '123-x', '_Conta__saldo': 15.0}\n",
      "conta_b:  {'_Conta__numero': '456-y', '_Conta__saldo': 30.0}\n",
      "conta_c:  {'_Conta__numero': '789-z', '_Conta__saldo': 0.0}\n",
      "--------------------\n",
      "vai alterar o saldo\n",
      "alterou o saldo com o saldo.setter!\n",
      "conta_a:  {'_Conta__numero': '123-x', '_Conta__saldo': 0.0}\n",
      "conta_b:  {'_Conta__numero': '456-y', '_Conta__saldo': 0.0}\n",
      "conta_c:  {'_Conta__numero': '789-z', '_Conta__saldo': 45.0}\n"
     ]
    }
   ],
   "source": [
    "# criando as contas\n",
    "conta_a = Conta('123-x',0.0)\n",
    "conta_b = Conta('456-y',0.0)\n",
    "conta_c = Conta('789-z',0.0)\n",
    "\n",
    "# creditando nas contas \n",
    "conta_a.creditar(15.00)\n",
    "conta_b.creditar(30.00)\n",
    "\n",
    "# verificando os dados das contas\n",
    "print('conta_a: ',vars(conta_a))\n",
    "print('conta_b: ',vars(conta_b))\n",
    "print('conta_c: ',vars(conta_c))\n",
    "print('--------------------')\n",
    "\n",
    "# transferindo os saldos de conta_a e conta_b para conta_c\n",
    "print('vai alterar o saldo')\n",
    "conta_c.saldo = conta_a.saldo + conta_b.saldo\n",
    "conta_a.debitar(conta_a.saldo)\n",
    "conta_b.debitar(conta_b.saldo)\n",
    "\n",
    "# verificando os dados das contas\n",
    "print('conta_a: ',vars(conta_a))\n",
    "print('conta_b: ',vars(conta_b))\n",
    "print('conta_c: ',vars(conta_c))"
   ]
  },
  {
   "cell_type": "markdown",
   "metadata": {},
   "source": [
    "Assim, conseguimos o melhor dos dois mundos. Os atributos são protegidos pelo ``__`` (se as boas práticas forem seguidas). Todos os atributos só são acessados através de funções similares aos *gets* e *sets*, mas com um código limpo, mais fácil de ler e escrever. "
   ]
  },
  {
   "cell_type": "markdown",
   "metadata": {},
   "source": [
    "### Criando um novo atributo\n",
    "\n",
    "Como vimos, não existe um atributo chamado **__saldo**. Mesmo assim, a operação a seguir não gera erro algum:"
   ]
  },
  {
   "cell_type": "code",
   "execution_count": 177,
   "metadata": {},
   "outputs": [],
   "source": [
    "conta.__saldo = 500.00"
   ]
  },
  {
   "cell_type": "markdown",
   "metadata": {},
   "source": [
    "Embora possa parecer estranho para programadores de outras linguagens orientadas a objetos, Python permite adicionar e remover atributos associados a um objeto durante a execução do programa. Quando realizamos a operação\n",
    "```python\n",
    "conta.__saldo = 500.00\n",
    "```\n",
    "adicionamos um novo atributo ao objeto conta, como pode ser comprovado utilizando a função ``dir``."
   ]
  },
  {
   "cell_type": "code",
   "execution_count": 178,
   "metadata": {},
   "outputs": [
    {
     "data": {
      "text/plain": [
       "['_Conta__numero',\n",
       " '_Conta__saldo',\n",
       " '__class__',\n",
       " '__delattr__',\n",
       " '__dict__',\n",
       " '__dir__',\n",
       " '__doc__',\n",
       " '__eq__',\n",
       " '__format__',\n",
       " '__ge__',\n",
       " '__getattribute__',\n",
       " '__gt__',\n",
       " '__hash__',\n",
       " '__init__',\n",
       " '__init_subclass__',\n",
       " '__le__',\n",
       " '__lt__',\n",
       " '__module__',\n",
       " '__ne__',\n",
       " '__new__',\n",
       " '__reduce__',\n",
       " '__reduce_ex__',\n",
       " '__repr__',\n",
       " '__saldo',\n",
       " '__setattr__',\n",
       " '__sizeof__',\n",
       " '__str__',\n",
       " '__subclasshook__',\n",
       " '__weakref__',\n",
       " 'creditar',\n",
       " 'debitar',\n",
       " 'get_numero',\n",
       " 'get_saldo',\n",
       " 'set_numero',\n",
       " 'set_saldo']"
      ]
     },
     "execution_count": 178,
     "metadata": {},
     "output_type": "execute_result"
    }
   ],
   "source": [
    "dir(conta)"
   ]
  },
  {
   "cell_type": "markdown",
   "metadata": {},
   "source": [
    "Também podemos comprovar a criação do novo atributo acessando o **atributo original** *_Conta__saldo* e o **novo atributo** *__saldo*."
   ]
  },
  {
   "cell_type": "code",
   "execution_count": 179,
   "metadata": {},
   "outputs": [
    {
     "name": "stdout",
     "output_type": "stream",
     "text": [
      "conta._Conta__saldo:  500.0\n",
      "conta.__saldo:  500.0\n"
     ]
    }
   ],
   "source": [
    "print('conta._Conta__saldo: ',conta._Conta__saldo)\n",
    "print('conta.__saldo: ',conta.__saldo)"
   ]
  },
  {
   "cell_type": "markdown",
   "metadata": {},
   "source": [
    "É importante observar que o novo atributo foi adicionado ao objeto *conta* e não à classe *Conta*. Assim, se criarmos um novo objeto chamado *conta_1*, por exemplo, ele **não terá** o atributo *__saldo*."
   ]
  },
  {
   "cell_type": "code",
   "execution_count": 181,
   "metadata": {},
   "outputs": [
    {
     "data": {
      "text/plain": [
       "['_Conta__numero',\n",
       " '_Conta__saldo',\n",
       " '__class__',\n",
       " '__delattr__',\n",
       " '__dict__',\n",
       " '__dir__',\n",
       " '__doc__',\n",
       " '__eq__',\n",
       " '__format__',\n",
       " '__ge__',\n",
       " '__getattribute__',\n",
       " '__gt__',\n",
       " '__hash__',\n",
       " '__init__',\n",
       " '__init_subclass__',\n",
       " '__le__',\n",
       " '__lt__',\n",
       " '__module__',\n",
       " '__ne__',\n",
       " '__new__',\n",
       " '__reduce__',\n",
       " '__reduce_ex__',\n",
       " '__repr__',\n",
       " '__setattr__',\n",
       " '__sizeof__',\n",
       " '__str__',\n",
       " '__subclasshook__',\n",
       " '__weakref__',\n",
       " 'creditar',\n",
       " 'debitar',\n",
       " 'numero',\n",
       " 'saldo']"
      ]
     },
     "execution_count": 181,
     "metadata": {},
     "output_type": "execute_result"
    }
   ],
   "source": [
    "conta_1 = Conta('345',12)\n",
    "dir(conta_1)"
   ]
  },
  {
   "cell_type": "markdown",
   "metadata": {},
   "source": [
    "Para programadores de outras linguagens orientadas a objetos, esse tipo de flexibilidade pode levar à quebra de hieraquia de classes, dificultar o tratamento homogêneo dos objetos instanciados a partir de uma classe, com consequência grave à manutenção de código.\n",
    "\n",
    "Já os defensores de Phyton, pensam diferente e acham a flexibilidade benéfica.\n",
    "\n",
    "Portanto, caso você prefira evitar essa liberdade, é possível utilizar ``__slots__``.\n",
    "\n",
    "## __slots__\n",
    "\n",
    "Todos os atributos de um objeto Python são armazenados em um Dicionário. Por isso, quando realizamos a operação:\n",
    "```python\n",
    "conta.__saldo = 500.00\n",
    "```\n",
    "Python incluiu o valor *500.00* com chave *__saldo* para o dicionário associado ao objeto *conta*.\n",
    "\n",
    "Se *retirarmos* o dicionário associado à classe, não será mais possível atribuir novos atributos a um objeto. A variável embutida ``__slots__`` serve para obeter esse resultado. Quando atribuimos uma lista de atributos à variável ``__slots__``, o dicionário é removido e nenhum novo atributo poderá ser inserido. "
   ]
  },
  {
   "cell_type": "code",
   "execution_count": 254,
   "metadata": {},
   "outputs": [],
   "source": [
    "class Conta:\n",
    "    \n",
    "    __slots__ = ['__saldo','__numero']\n",
    "    \n",
    "    def __init__(self, saldo, numero):\n",
    "        self.__numero = numero\n",
    "        self.__saldo = saldo\n",
    "    \n",
    "    def creditar(self, valor):\n",
    "        self.__saldo += valor\n",
    "        \n",
    "    def debitar(self, valor):\n",
    "        self.__saldo -= valor\n",
    "\n",
    "    @property\n",
    "    def numero(self):\n",
    "        return self.__numero\n",
    "    \n",
    "    @property\n",
    "    def saldo(self):\n",
    "        return self.__saldo   "
   ]
  },
  {
   "cell_type": "markdown",
   "metadata": {},
   "source": [
    "Agora, se tentarmos inserir um atributo qualquer, como *nome_titular*, o interpretador Python não permirá. "
   ]
  },
  {
   "cell_type": "code",
   "execution_count": 255,
   "metadata": {},
   "outputs": [
    {
     "ename": "AttributeError",
     "evalue": "'Conta' object has no attribute 'nome_titular'",
     "output_type": "error",
     "traceback": [
      "\u001b[1;31m---------------------------------------------------------------------------\u001b[0m",
      "\u001b[1;31mAttributeError\u001b[0m                            Traceback (most recent call last)",
      "\u001b[1;32m<ipython-input-255-711e54ade69b>\u001b[0m in \u001b[0;36m<module>\u001b[1;34m\u001b[0m\n\u001b[0;32m      1\u001b[0m \u001b[0mconta\u001b[0m \u001b[1;33m=\u001b[0m \u001b[0mConta\u001b[0m\u001b[1;33m(\u001b[0m\u001b[1;34m'123-x'\u001b[0m\u001b[1;33m,\u001b[0m\u001b[1;36m0.0\u001b[0m\u001b[1;33m)\u001b[0m\u001b[1;33m\u001b[0m\u001b[1;33m\u001b[0m\u001b[0m\n\u001b[1;32m----> 2\u001b[1;33m \u001b[0mconta\u001b[0m\u001b[1;33m.\u001b[0m\u001b[0mnome_titular\u001b[0m \u001b[1;33m=\u001b[0m \u001b[1;34m'Augusto'\u001b[0m\u001b[1;33m\u001b[0m\u001b[1;33m\u001b[0m\u001b[0m\n\u001b[0m",
      "\u001b[1;31mAttributeError\u001b[0m: 'Conta' object has no attribute 'nome_titular'"
     ]
    }
   ],
   "source": [
    "conta = Conta('123-x',0.0)\n",
    "conta.nome_titular = 'Augusto'"
   ]
  },
  {
   "cell_type": "markdown",
   "metadata": {},
   "source": [
    "Para confirmar que o dicionário foi removido, vamos utilizar a função ``vars``."
   ]
  },
  {
   "cell_type": "code",
   "execution_count": 257,
   "metadata": {},
   "outputs": [
    {
     "ename": "TypeError",
     "evalue": "vars() argument must have __dict__ attribute",
     "output_type": "error",
     "traceback": [
      "\u001b[1;31m---------------------------------------------------------------------------\u001b[0m",
      "\u001b[1;31mTypeError\u001b[0m                                 Traceback (most recent call last)",
      "\u001b[1;32m<ipython-input-257-e1bdc6b3564e>\u001b[0m in \u001b[0;36m<module>\u001b[1;34m\u001b[0m\n\u001b[1;32m----> 1\u001b[1;33m \u001b[0mvars\u001b[0m\u001b[1;33m(\u001b[0m\u001b[0mconta\u001b[0m\u001b[1;33m)\u001b[0m\u001b[1;33m\u001b[0m\u001b[1;33m\u001b[0m\u001b[0m\n\u001b[0m",
      "\u001b[1;31mTypeError\u001b[0m: vars() argument must have __dict__ attribute"
     ]
    }
   ],
   "source": [
    "vars(conta)"
   ]
  },
  {
   "cell_type": "markdown",
   "metadata": {},
   "source": [
    "## Atributos de Classe\n",
    "\n",
    "Como sabemos, o atributo *numero* da classe *Conta* servirá para identificar unicamente cada objeto criado. Portanto, não deveria haver dois objetos com o mesmo valor para *numero*. Felizmente, existe uma maneira bastante simples para fazer isso utilizando um conceito chamado de *atributo de classe*.\n",
    "\n",
    "Enquanto os atributos dos objetos armazenam valores específicos para cada objeto, um *atributo de classe* armazena um valor que é compartilhado por todos objetos instanciados a partir de uma classe.\n",
    "\n",
    "Vamos definir o atributo chamado *num_contas* para armazenar o número total de contas criadas a partir da classe. Utilizaremos esse valor para inicialzar o atributo *numero*, que não poderá ser modificado depois de sua criação utilizando o decorator ``@numero.setter``. \n",
    "\n",
    "Portanto, sempre que um objeto for criado, incrementaremos *num_contas* de um. O valor armazenado em *num_contas* será utilizado para inicializar o **atributo de instância** *numero*.\n",
    "\n",
    "Vamos aproveitar e também retirar o decorator ``@saldo.setter``, pois só queremos que o saldo seja modificado por meio dos métodos *creditar* e *debitar*.\n"
   ]
  },
  {
   "cell_type": "code",
   "execution_count": 247,
   "metadata": {},
   "outputs": [],
   "source": [
    "class Conta:\n",
    "    \n",
    "    # atributo de classe\n",
    "    __num_contas = 0 \n",
    "    \n",
    "    def __init__(self, saldo):\n",
    "        self.__numero = Conta.__num_contas\n",
    "        self.__saldo = saldo\n",
    "        # incrementa o atributo de classe sempre que um objeto for criado\n",
    "        Conta.__num_contas += 1\n",
    "    \n",
    "    def creditar(self, valor):\n",
    "        self.__saldo += valor\n",
    "        \n",
    "    def debitar(self, valor):\n",
    "        self.__saldo -= valor\n",
    "\n",
    "    @property\n",
    "    def numero(self):\n",
    "        return self.__numero\n",
    "    \n",
    "    @property\n",
    "    def saldo(self):\n",
    "        return self.__saldo   "
   ]
  },
  {
   "cell_type": "code",
   "execution_count": 241,
   "metadata": {},
   "outputs": [
    {
     "name": "stdout",
     "output_type": "stream",
     "text": [
      "conta_1: {'_Conta__numero': 10, '_Conta__saldo': 20}\n",
      "conta_2: {'_Conta__numero': 11, '_Conta__saldo': 30}\n"
     ]
    },
    {
     "ename": "NameError",
     "evalue": "name 'Contas' is not defined",
     "output_type": "error",
     "traceback": [
      "\u001b[1;31m---------------------------------------------------------------------------\u001b[0m",
      "\u001b[1;31mNameError\u001b[0m                                 Traceback (most recent call last)",
      "\u001b[1;32m<ipython-input-241-bd32efa13490>\u001b[0m in \u001b[0;36m<module>\u001b[1;34m\u001b[0m\n\u001b[0;32m      7\u001b[0m \u001b[0mprint\u001b[0m\u001b[1;33m(\u001b[0m\u001b[1;34m'conta_2:'\u001b[0m\u001b[1;33m,\u001b[0m\u001b[0mvars\u001b[0m\u001b[1;33m(\u001b[0m\u001b[0mconta_2\u001b[0m\u001b[1;33m)\u001b[0m\u001b[1;33m)\u001b[0m\u001b[1;33m\u001b[0m\u001b[1;33m\u001b[0m\u001b[0m\n\u001b[0;32m      8\u001b[0m \u001b[1;33m\u001b[0m\u001b[0m\n\u001b[1;32m----> 9\u001b[1;33m \u001b[0mdir\u001b[0m\u001b[1;33m(\u001b[0m\u001b[0mContas\u001b[0m\u001b[1;33m)\u001b[0m\u001b[1;33m\u001b[0m\u001b[1;33m\u001b[0m\u001b[0m\n\u001b[0m",
      "\u001b[1;31mNameError\u001b[0m: name 'Contas' is not defined"
     ]
    }
   ],
   "source": [
    "# instanciando e imprimindo objeto conta_1\n",
    "conta_1 = Conta(20)\n",
    "print('conta_1:',vars(conta_1))\n",
    "\n",
    "# instanciando e imprimindo objeto conta_2\n",
    "conta_2 = Conta(30)\n",
    "print('conta_2:',vars(conta_2))"
   ]
  },
  {
   "cell_type": "markdown",
   "metadata": {},
   "source": [
    "Observe que, diferente dos **atributo de instância**, que são acessados com o prefixo ``self``, o **atributo de classe** *num_contas* é acessado com o prefixo ``Conta``, que é o nome da classe.\n",
    "\n",
    "## Métodos de Classe\n",
    "\n",
    "Os métodos que definimos até agora estão associados a um objeto. Para toda nova instância será criado uma nova cópia do método na memória. Pois, conceitualmente, trata-se de um comportamento do objeto.\n",
    "\n",
    "Python permite criar um método que está associado à classe, que são chamados de **métodos de classe**. Só existe uma cópia do método em todo o programa.\n",
    "\n",
    "Por exemplo, se quisermos acessar o atributo de classe *__num_contas* não poderemos fazer diretamente usando o nome da classe ou o nome do objeto como prefixo. Vamos testar..."
   ]
  },
  {
   "cell_type": "code",
   "execution_count": 243,
   "metadata": {},
   "outputs": [
    {
     "ename": "AttributeError",
     "evalue": "type object 'Conta' has no attribute '__num_contas'",
     "output_type": "error",
     "traceback": [
      "\u001b[1;31m---------------------------------------------------------------------------\u001b[0m",
      "\u001b[1;31mAttributeError\u001b[0m                            Traceback (most recent call last)",
      "\u001b[1;32m<ipython-input-243-2f62d00de35c>\u001b[0m in \u001b[0;36m<module>\u001b[1;34m\u001b[0m\n\u001b[1;32m----> 1\u001b[1;33m \u001b[0mConta\u001b[0m\u001b[1;33m.\u001b[0m\u001b[0m__num_contas\u001b[0m\u001b[1;33m\u001b[0m\u001b[1;33m\u001b[0m\u001b[0m\n\u001b[0m",
      "\u001b[1;31mAttributeError\u001b[0m: type object 'Conta' has no attribute '__num_contas'"
     ]
    }
   ],
   "source": [
    "Conta.__num_contas"
   ]
  },
  {
   "cell_type": "code",
   "execution_count": 244,
   "metadata": {},
   "outputs": [
    {
     "ename": "AttributeError",
     "evalue": "'Conta' object has no attribute '__num_contas'",
     "output_type": "error",
     "traceback": [
      "\u001b[1;31m---------------------------------------------------------------------------\u001b[0m",
      "\u001b[1;31mAttributeError\u001b[0m                            Traceback (most recent call last)",
      "\u001b[1;32m<ipython-input-244-789ce61e8ffc>\u001b[0m in \u001b[0;36m<module>\u001b[1;34m\u001b[0m\n\u001b[1;32m----> 1\u001b[1;33m \u001b[0mconta_1\u001b[0m\u001b[1;33m.\u001b[0m\u001b[0m__num_contas\u001b[0m\u001b[1;33m\u001b[0m\u001b[1;33m\u001b[0m\u001b[0m\n\u001b[0m",
      "\u001b[1;31mAttributeError\u001b[0m: 'Conta' object has no attribute '__num_contas'"
     ]
    }
   ],
   "source": [
    "conta_1.__num_contas"
   ]
  },
  {
   "cell_type": "markdown",
   "metadata": {},
   "source": [
    "Por outro lado, não faz muito sentido criar um método de instância para acessar o atributo da classe. Pois, o atributo não pertence a instância e, sim, à classe.\n",
    "\n",
    "A solução utilizada por Python faz uso do decorator ``@classmethod``, que permite criar um *método de classe*. Só existirá uma instância do método de classe em todo o programa. Como pertence à classe, o método é acessado utilizando o nome da classe como prefixo."
   ]
  },
  {
   "cell_type": "code",
   "execution_count": 253,
   "metadata": {},
   "outputs": [
    {
     "name": "stdout",
     "output_type": "stream",
     "text": [
      "num_contas:  0\n",
      "conta_1: {'_Conta__numero': 0, '_Conta__saldo': 20}\n",
      "conta_2: {'_Conta__numero': 1, '_Conta__saldo': 30}\n",
      "num_contas:  2\n"
     ]
    }
   ],
   "source": [
    "class Conta:\n",
    "    \n",
    "    __num_contas = 0 \n",
    "    \n",
    "    def __init__(self, saldo):\n",
    "        self.__numero = Conta.__num_contas\n",
    "        self.__saldo = saldo\n",
    "        Conta.__num_contas += 1\n",
    "        \n",
    "    # definindo um método de classe\n",
    "    @classmethod    \n",
    "    def get_num_contas(cls):\n",
    "        return cls.__num_contas\n",
    "    \n",
    "    def creditar(self, valor):\n",
    "        self.__saldo += valor\n",
    "        \n",
    "    def debitar(self, valor):\n",
    "        self.__saldo -= valor\n",
    "\n",
    "    @property\n",
    "    def numero(self):\n",
    "        return self.__numero\n",
    "    \n",
    "    @property\n",
    "    def saldo(self):\n",
    "        return self.__saldo   \n",
    "\n",
    "# imprimindo valor do atributo de classe\n",
    "print('num_contas: ',Conta.get_num_contas())\n",
    "\n",
    "# instanciando e imprimindo objeto conta_1\n",
    "conta_1 = Conta(20)\n",
    "print('conta_1:',vars(conta_1))\n",
    "\n",
    "# instanciando e imprimindo objeto conta_2\n",
    "conta_2 = Conta(30)\n",
    "print('conta_2:',vars(conta_2))\n",
    "\n",
    "# imprimindo valor do atributo de classe\n",
    "print('num_contas: ',Conta.get_num_contas())"
   ]
  },
  {
   "cell_type": "markdown",
   "metadata": {},
   "source": [
    "## Herança\n",
    "\n",
    "Imagine agora que surge um novo requisito. O banco precisa trabalhar com *poupanças* que, além dos métodos *creditar* e *debitar*, dos atributos *numero* e *saldo*, devem possuir um novo método para render juros uma vez por mês:\n",
    "\n",
    "<img  src=\"./imagens/Heranca 01.png\" width=\"250\" />\n",
    "\n",
    "\n",
    "#### O que fazer?\n",
    "\n",
    "A nova classe deve continuar funcionando como a classe conta em relação aos métodos *creditar* e *debitar*, e aos atributos *numero* e *saldo* . Portanto, se mandarmos creditar, o objeto fará exatamente o que a classe *Conta* faz.\n",
    "\n",
    "<img  src=\"./imagens/Heranca 02.png\" width=\"600\" />\n",
    "\n",
    "Mas agora possui o novo comportamento:\n",
    "\n",
    "<img  src=\"./imagens/Heranca 03.png\" width=\"600\" />\n",
    "\n",
    "A nova classe *Poupanca* pode ser implementada como segue:"
   ]
  },
  {
   "cell_type": "code",
   "execution_count": 13,
   "metadata": {},
   "outputs": [
    {
     "name": "stdout",
     "output_type": "stream",
     "text": [
      "{'_Poupanca__numero': 0, '_Poupanca__saldo': 202.0, '_Poupanca__taxa_juros': 0.01}\n"
     ]
    }
   ],
   "source": [
    "class Poupanca:\n",
    "    \n",
    "    __num_contas = 0 \n",
    "    \n",
    "    def __init__(self, saldo, taxa_juros):\n",
    "        self.__numero = Poupanca.__num_contas\n",
    "        self.__saldo = saldo\n",
    "        self.__taxa_juros = taxa_juros\n",
    "        Poupanca.__num_contas += 1\n",
    "    \n",
    "    @classmethod    \n",
    "    def get_num_contas(cls):\n",
    "        return cls.__num_contas\n",
    "    \n",
    "    # novo método\n",
    "    def render_juros(self):\n",
    "        self.creditar(self.__saldo * self.__taxa_juros)\n",
    "    \n",
    "    def creditar(self, valor):\n",
    "        self.__saldo += valor\n",
    "        \n",
    "    def debitar(self, valor):\n",
    "        self.__saldo -= valor\n",
    "\n",
    "    @property\n",
    "    def numero(self):\n",
    "        return self.__numero\n",
    "    \n",
    "    @property\n",
    "    def saldo(self):\n",
    "        return self.__saldo \n",
    "    \n",
    "    @property\n",
    "    def taxa_juros(self):\n",
    "        return self.__taxa_juros\n",
    "    \n",
    "    @taxa_juros.setter\n",
    "    def taxa_juros(self, taxa_juros):\n",
    "        self.__taxa_juros = taxa_juros\n",
    "    \n",
    "# testando Poupanca\n",
    "conta_poupanca = Poupanca(0.0, 0.01)\n",
    "conta_poupanca.creditar(200.0)\n",
    "conta_poupanca.render_juros()\n",
    "print(vars(conta_poupanca))"
   ]
  },
  {
   "cell_type": "markdown",
   "metadata": {},
   "source": [
    "Observe que o código da classe *Poupanca* é uma cópia da classe *Conta*, ex\n",
    "estendida com o novo comportamento *rederJuros*. Portanto, *Poupanca* faz tudo que *Conta* faz e mais alguma coisa (*renderJuros*). Nesse sentido, podemos afirmar que *Poupanca* é uma *Conta*. \n",
    "\n",
    "### Subclasses e Superclasse\n",
    "\n",
    "Portanto, a classe *Poupança* vair **herdar** todos os atributos e comportamentos da classe *Conta*. Em outras palavras, a *Poupança* será uma **subclasse** da **superclasse** *Conta*. Ou ainda, *Conta* é a classe mãe e *Poupança* é a classe filha.\n",
    "\n",
    "Dois conceitos são bastante importantes quando falamos de *subclasses*:\n",
    "  - *comportamento:* objetos da subclasse comportam-se  como os objetos da superclasse;\n",
    "  - *substituição:* objetos da subclasse podem ser usados no lugar de objetos da superclasse.\n",
    "\n",
    "### Benefícios da Herança\n",
    "\n",
    "O conceito de *herança* trás diversos benefícios:\n",
    "   - *extensibilidade:* algumas operações da superclasse podem ser redefinidas na subclasse, permitindo alterar classes já existentes e adicionar propriedades ou comportamentos para representar outra classe;\n",
    "   - *reuso de código:* algumas operações da superclasse podem ser redefinidas na subclasse, criando uma hierarquia de classes que *herdam* propriedades e comportamentos de outra classe e definem novas propriedades e comportamentos.\n",
    "   \n",
    "### Definindo a classe Poupança com herança\n",
    "\n",
    "Para informarmos que a classe *Poupanca* **herda** da classe *Conta*, colocamos *Conta* entre parênteses no ato da definição do nome da classe *Poupança*:\n",
    "```python\n",
    "class Poupanca(Conta):\n",
    "    # corpo da classe\n",
    "```\n",
    "Já que *Poupanca* **é uma** *Conta*, ela terá que conter todos os atributos da classe herdada (*Conta*). Para isso, devemos invocar o método *__init__* de *Conta* dentro do método *__init__* de *Poupança*:\n",
    "```python\n",
    "class Poupanca(Conta):\n",
    "    \n",
    "    def __init__(self, saldo)\n",
    "        Conta.__init__(saldo)\n",
    "    \n",
    "    # corpo da classe - continuação ...\n",
    "```\n",
    "Caso *Poupana* tivesse um novo atributo *taxa_juros*, por exemplo, ele deveria ser inicializado no método *__init__* de *Poupanca*. O acesso à classe *__init__* da classe mãe é feito utilizando *super()*:\n",
    "```python\n",
    "class Poupanca(Conta):\n",
    "    \n",
    "    def __init__(self, saldo, taxa_juros)\n",
    "        super().__init__(saldo)\n",
    "        self.__taxa_juros = taxa_juros\n",
    "    \n",
    "    # corpo da classe - continuação ...\n",
    "```\n",
    "Note que, para que possa inicializar os atributos herdados de *Conta*, o *__init__* de *Poupanca* recebeu o *saldo* como parâmetro.\n",
    "\n",
    "Para finalizar a implementação de *Poupanca*, basta incluir o novo método render juros:\n",
    "```python\n",
    "class Poupanca(Conta):\n",
    "    \n",
    "    def __init__(self, saldo):\n",
    "        super().__init__(saldo)\n",
    "    \n",
    "    def rederJuros(self,taxa_juros):\n",
    "        super.creditar(super().saldo * self.taxa_juros)\n",
    "    \n",
    "    # corpo da classe - continuação ...\n",
    "```\n",
    "\n",
    "**Atenção:** \n",
    "  - é uma má prática inicializar os atributos herdados (*numero* e *saldo*) na classe filha, pois afetará as características originais da classe herdada, quebrando a hierarquia de classes e afetando a capacidade de entendimento e reuso do código;\n",
    "  - a inicialização desses atributos deve ser feita utilizando o método *__init__* da classe mãe;"
   ]
  },
  {
   "cell_type": "code",
   "execution_count": 27,
   "metadata": {},
   "outputs": [],
   "source": [
    "class Conta:\n",
    "    \n",
    "    __num_contas = 0 \n",
    "    \n",
    "    def __init__(self, saldo):\n",
    "        self.__saldo = saldo\n",
    "        self.__numero = Conta.__num_contas\n",
    "        Conta.__num_contas += 1\n",
    "        \n",
    "    # definindo um método de classe\n",
    "    @classmethod    \n",
    "    def get_num_contas(cls):\n",
    "        return cls.__num_contas\n",
    "    \n",
    "    def creditar(self, valor):\n",
    "        self.__saldo += valor\n",
    "        \n",
    "    def debitar(self, valor):\n",
    "        self.__saldo -= valor\n",
    "\n",
    "    @property\n",
    "    def numero(self):\n",
    "        return self.__numero\n",
    "    \n",
    "    @property\n",
    "    def saldo(self):\n",
    "        return self.__saldo   \n",
    "\n",
    "        \n",
    "class Poupanca(Conta):\n",
    "        \n",
    "    def __init__(self, saldo, taxa_juros):\n",
    "        super().__init__(saldo)\n",
    "        self.__taxa_juros = taxa_juros\n",
    "\n",
    "    # novo método\n",
    "    def render_juros(self):\n",
    "        self.creditar(self.saldo * self.__taxa_juros)\n",
    "        \n",
    "    @property\n",
    "    def taxa_juros(self):\n",
    "        return self.__taxa_juros\n",
    "    \n",
    "    @taxa_juros.setter\n",
    "    def taxa_juros(self, taxa_juros):\n",
    "        self.__taxa_juros = taxa_juros"
   ]
  },
  {
   "cell_type": "markdown",
   "metadata": {},
   "source": [
    "Assim como fizemos com *__init__*, o acesso aos métodos herdados deve ser feito incluindo o prefixo *super()*. Por exemplo, no método *render_juros*, invocamos o método herdado *creditar*:\n",
    "``` python\n",
    "        super().creditar(super().saldo * self.__taxa_juros)\n",
    "```\n",
    "\n",
    "Note que, para acessar o valor do saldo, utilizamos o *método de acesso*:\n",
    "``` python\n",
    "super().saldo\n",
    "```\n",
    "Se, por outro lado, tentarmos acessar diretamente um atributo herdado *__saldo* dentro da classe filha *Poupanca*, o Python vai acusar um erro, pois o atributo foi definido na classe mãe *Conta* e não é visível em *Poupanca*.\n",
    "\n",
    "Por exemplo, se dentro da classe *Poupanca*, tentarmos definir o método *render_juros* como segue: \n",
    "``` python\n",
    "def reder_juros(self):\n",
    "    super().creditar(super().__saldo * self.__taxa_juros)\n",
    "        ```\n",
    "Python vai emitir a mensagem de erro:\n",
    "``` python\n",
    "     35     def reder_juros(self):\n",
    "---> 36         super().creditar(super().__saldo * self.__taxa_juros)\n",
    "\n",
    "AttributeError: 'super' object has no attribute '_Poupanca__saldo'\n",
    "```\n",
    "\n",
    "Vamos testar as duas classes *Conta* e *Poupanca*:"
   ]
  },
  {
   "cell_type": "code",
   "execution_count": 28,
   "metadata": {},
   "outputs": [
    {
     "name": "stdout",
     "output_type": "stream",
     "text": [
      "conta:  {'_Conta__saldo': 0.0, '_Conta__numero': 0}\n",
      "poupanca:  {'_Conta__saldo': 0.0, '_Conta__numero': 1, '_Poupanca__taxa_juros': 0.01}\n"
     ]
    }
   ],
   "source": [
    "# cria objeto conta\n",
    "conta = Conta(0.0)\n",
    "print('conta: ',vars(conta))\n",
    "\n",
    "# cria objeto poupança\n",
    "poupanca = Poupanca(0.0,0.01)\n",
    "print('poupanca: ',vars(poupanca))"
   ]
  },
  {
   "cell_type": "markdown",
   "metadata": {},
   "source": [
    "Note que os atributos herdados continuam associados à classe mãe *Conta* e o novo atributo fica associado à clase *Poupanca*.\n",
    "\n",
    "Vamos agora testar o funcionamento do objeto *poupanca*:"
   ]
  },
  {
   "cell_type": "code",
   "execution_count": 29,
   "metadata": {},
   "outputs": [
    {
     "name": "stdout",
     "output_type": "stream",
     "text": [
      "\n",
      "Creditou R$ 200,00\n",
      "poupanca:  {'_Conta__saldo': 200.0, '_Conta__numero': 1, '_Poupanca__taxa_juros': 0.01}\n",
      "\n",
      "Rendeu juros de 1%\n",
      "poupanca:  {'_Conta__saldo': 202.0, '_Conta__numero': 1, '_Poupanca__taxa_juros': 0.01}\n"
     ]
    }
   ],
   "source": [
    "# creditar poupança\n",
    "poupanca.creditar(200.0)\n",
    "print('\\nCreditou R$ 200,00')\n",
    "print('poupanca: ',vars(poupanca))\n",
    "\n",
    "# render juros de poupança\n",
    "print('\\nRendeu juros de 1%')\n",
    "poupanca.render_juros()\n",
    "print('poupanca: ',vars(poupanca))\n"
   ]
  },
  {
   "cell_type": "markdown",
   "metadata": {},
   "source": [
    "## Acesso por referência"
   ]
  },
  {
   "cell_type": "markdown",
   "metadata": {},
   "source": [
    "## Ligação de Tipos\n",
    "\n",
    "Esta seção aborda o tema ligação estática e dinâmica de tipos.\n",
    "\n",
    "Para inciar, vamos avançar mais com nossa aplicação bancária e criar uma classe *Banco*, que conterá um conjunto de contas correntes e poupanças:"
   ]
  },
  {
   "cell_type": "code",
   "execution_count": 125,
   "metadata": {},
   "outputs": [],
   "source": [
    "class Banco:\n",
    "        \n",
    "    def __init__(self):\n",
    "            # o conjunto de contas do banco será\n",
    "            # armazenada em uma lista\n",
    "            self.__contas = []\n",
    "\n",
    "    @property\n",
    "    def contas(self):\n",
    "        return self.__contas\n",
    "    \n",
    "    # verifica se uma determinada conta  \n",
    "    # está cadastrada no banco\n",
    "    def existe_conta(self, numero):\n",
    "        idx = 0\n",
    "        achou = False\n",
    "        while (idx < len(self.contas) and (not achou)):\n",
    "            if (self.contas[idx].numero == numero):\n",
    "                achou = True\n",
    "            idx += 1     \n",
    "        return achou\n",
    "\n",
    "    # verifica se uma determinada conta  \n",
    "    # está cadastrada no banco. Se estiver\n",
    "    # retorna a conta como resultado\n",
    "    def get_conta(self, numero):\n",
    "        idx = 0\n",
    "        achou = False\n",
    "        while (idx < len(self.contas) and (not achou)):\n",
    "            if (self.contas[idx].numero == numero):\n",
    "                achou = True\n",
    "                resposta = self.contas[idx]\n",
    "            idx += 1     \n",
    "        if(achou):\n",
    "            return resposta\n",
    "        else:\n",
    "            # não é a melhor prática; veremos adiante\n",
    "            print('Conta '+ str(numero) + ' inexistente!')\n",
    "\n",
    "    # cadastra uma nova Conta ou Poupanca\n",
    "    def cadastrar_conta(self, conta):\n",
    "        if(not self.existe_conta(conta.numero)):\n",
    "           self.contas.append(conta)\n",
    "        else:\n",
    "           # não é a melhor prática; veremos adiante\n",
    "           print('Conta '+ str(conta.numero) + ' já cadastrada!')\n",
    "\n",
    "    # credita em uma Conta ou Poupanca\n",
    "    def creditar(self, numero, valor):\n",
    "        conta = self.get_conta(numero)\n",
    "        conta.creditar(valor)\n",
    "\n",
    "    # debita de uma Conta ou Poupanca\n",
    "    def debitar(self, numero, valor):\n",
    "        conta = self.get_conta(numero)\n",
    "        conta.debitar(valor)\n",
    "    \n",
    "    # rende juros de uma nova Poupanca\n",
    "    def reder_juros(self, numero):\n",
    "        conta = self.get_conta(numero)\n",
    "        # verifica se o objeto passado possui \n",
    "        # o método render_juros\n",
    "        if(hasattr(conta, 'render_juros')):\n",
    "            conta.render_juros()\n",
    "        else:\n",
    "           # não é a melhor prática; veremos adiante\n",
    "           print('Conta '+ str(conta.numero) + ' não é poupança!')"
   ]
  },
  {
   "cell_type": "code",
   "execution_count": 126,
   "metadata": {},
   "outputs": [
    {
     "name": "stdout",
     "output_type": "stream",
     "text": [
      "Cadastrou conta\n",
      "{'_Conta__saldo': 100, '_Conta__numero': 55}\n",
      "\n",
      "Debitou R$ 20 de conta\n",
      "{'_Conta__saldo': 80, '_Conta__numero': 55}\n",
      "\n",
      "Creditou R$ 100 de conta\n",
      "{'_Conta__saldo': 180, '_Conta__numero': 55}\n"
     ]
    }
   ],
   "source": [
    "# testando a classe Banco\n",
    "banco = Banco()\n",
    "\n",
    "conta = Conta(100)\n",
    "banco.cadastrar_conta(conta)\n",
    "print('Cadastrou conta')\n",
    "print(vars(banco.get_conta(conta.numero)))\n",
    "\n",
    "banco.debitar(conta.numero,20)\n",
    "print('\\nDebitou R$ 20 de conta')\n",
    "print(vars(banco.get_conta(conta.numero)))\n",
    "\n",
    "banco.creditar(conta.numero,100)\n",
    "print('\\nCreditou R$ 100 de conta')\n",
    "print(vars(banco.get_conta(conta.numero)))"
   ]
  },
  {
   "cell_type": "code",
   "execution_count": 127,
   "metadata": {},
   "outputs": [
    {
     "name": "stdout",
     "output_type": "stream",
     "text": [
      "Cadastrou poupanca\n",
      "{'_Conta__saldo': 200, '_Conta__numero': 56, '_Poupanca__taxa_juros': 0.01}\n",
      "\n",
      "Debitou R$ 20 de poupanca\n",
      "{'_Conta__saldo': 180, '_Conta__numero': 56, '_Poupanca__taxa_juros': 0.01}\n",
      "\n",
      "Creditou R$ 100 de poupanca\n",
      "{'_Conta__saldo': 280, '_Conta__numero': 56, '_Poupanca__taxa_juros': 0.01}\n"
     ]
    }
   ],
   "source": [
    "poupanca = Poupanca(200,0.01)\n",
    "banco.cadastrar_conta(poupanca)\n",
    "print('Cadastrou poupanca')\n",
    "print(vars(banco.get_conta(poupanca.numero)))\n",
    "\n",
    "banco.debitar(poupanca.numero,20)\n",
    "print('\\nDebitou R$ 20 de poupanca')\n",
    "print(vars(banco.get_conta(poupanca.numero)))\n",
    "\n",
    "banco.creditar(poupanca.numero,100)\n",
    "print('\\nCreditou R$ 100 de poupanca')\n",
    "print(vars(banco.get_conta(poupanca.numero)))"
   ]
  },
  {
   "cell_type": "markdown",
   "metadata": {},
   "source": [
    "Agora, vamos tentar render juros. Será que funciona para *Conta*?"
   ]
  },
  {
   "cell_type": "code",
   "execution_count": 128,
   "metadata": {},
   "outputs": [
    {
     "name": "stdout",
     "output_type": "stream",
     "text": [
      "Conta 55 não é poupança!\n"
     ]
    }
   ],
   "source": [
    "banco.reder_juros(conta.numero)"
   ]
  },
  {
   "cell_type": "markdown",
   "metadata": {},
   "source": [
    "O erro ocorreu por que tomamos o cuidado utilizar a função **hasattr** para testar se o objeto passado como parâmetro para o método ``rende_juros`` de *Bancos* (abaixo) possui um método chamado ``render_juros``. Sabemos que *Poupanca* tem, mas *Conta*, não:\n",
    "```python\n",
    "    def reder_juros(self, numero):\n",
    "        conta = self.get_conta(numero)\n",
    "        # verifica se o objeto passado possui \n",
    "        # o método render_juros\n",
    "        if(hasattr(conta, 'render_juros')):\n",
    "            conta.render_juros()\n",
    "        else:\n",
    "           print('Conta '+ str(conta.numero) + ' não é poupança!')```\n",
    "Portanto, se mandarmos render juros de *poupanca*, vai funcionar:"
   ]
  },
  {
   "cell_type": "code",
   "execution_count": 129,
   "metadata": {},
   "outputs": [
    {
     "name": "stdout",
     "output_type": "stream",
     "text": [
      "{'_Conta__saldo': 282.8, '_Conta__numero': 56, '_Poupanca__taxa_juros': 0.01}\n"
     ]
    }
   ],
   "source": [
    "banco.reder_juros(poupanca.numero)\n",
    "print(vars(banco.get_conta(poupanca.numero)))"
   ]
  },
  {
   "cell_type": "markdown",
   "metadata": {},
   "source": [
    "Uma alternativa para a função **hasattr** seria a função **isinstance** que, recebe a classe e não a instância, como ocorre em **hasattr**. Assim, a implementação de render juros, ficaria:\n",
    "```python\n",
    "    def reder_juros(self, numero):\n",
    "        conta = self.get_conta(numero)\n",
    "        # verifica se o objeto passado possui \n",
    "        # o método render_juros\n",
    "        if(isinstance(conta, Poupanca)):\n",
    "            conta.render_juros()\n",
    "        else:\n",
    "           print('Conta '+ str(conta.numero) + ' não é poupança!')```\n",
    "\n",
    "Porém, como Python é uma linguagem dinamicamente tipada, ela não faz restrição ao objeto que pode ser passado. Portanto, no lugar de testar a classe, programadores Python preferem assumir que, desde que o objeto passado possua um método público chamado ``render_juros``, tudo bem. Em outras palavras, programadores Python escrevem funcões que esperam apenas que o objeto passado como parâmetro possua uma interface (método público) do objeto e não o tipo do objeto.\n",
    "\n",
    "Essa estratégia, utilizada por Python e outras linguagens dinâmicas, é chamada de *Duck Typing*. \n",
    "\n",
    "<img  src=\"./imagens/ducktyping.jpg\" width=\"250\" />\n",
    "\n",
    "Porém, para programadores de linguagens estaticamente tipadas, como Java, testar apenas a interface (método público) do objeto pode dar calafrios, pois erros que poderiam ser evitados estaticamente, podem ocorrer durante a execução do programa.\n",
    "\n",
    "Esse é o grande debate entre *tipagem dinâmica* (liberdade) e *tipagem estática* (segurança). Se você escolheu a liberdade, redobre o cuidado ao escrever seu código para garantir a segurança.\n",
    "\n",
    "<img  src=\"./imagens/dynamicStaticTyping.jpg\" width=\"250\" />\n",
    "\n",
    "### Novo requisito para a aplicação bancária\n",
    "\n",
    "Surge um novo requisito:\n",
    "  - precisamos criar uma conta especial que deve armazenar um bônus a cada crédito que receber;\n",
    "  - a conta deve ainda permitir render este bônus, somando seu valor ao saldo da conta.\n",
    "  \n",
    "**Atenção:** O método creditar dessa nova conta funciona\n",
    "ligeiramente diferente que o de *Conta* e *Poupanca*.\n",
    "\n",
    "#### Passo 1\n",
    "\n",
    "`creditar` de *Conta Especial* modifica o saldo da mesma forma que `creditar` de *Conta* fazia. Mas faz algo a mais em um **novo** atributo, chamado *bonus*.\n",
    "\n",
    "<img  src=\"./imagens/ContaEspecial1.png\" width=\"700\" />\n",
    "\n",
    "Portanto, `creditar` de *Conta_Especial* preserva o comportamento `creditar` em relação aos atributos herdados de *Conta*.\n",
    "\n",
    "#### Passo 2\n",
    "\n",
    "Novo método `render_bonus` modifica o atributo herdado *saldo* e o novo atributo *bonus*. Porém, `render_bonus` é um **novo** comportamento (não foi herdado de *Conta*) e pode modificar os atributos da maneira que bem entender.\n",
    "\n",
    "<img  src=\"./imagens/ContaEspecial2.png\" width=\"700\" />\n",
    "\n",
    "Podemos implementar *Conta_Especial* como segue:"
   ]
  },
  {
   "cell_type": "code",
   "execution_count": 130,
   "metadata": {},
   "outputs": [],
   "source": [
    "class Conta_Especial(Conta):\n",
    "    \n",
    "    __taxa_bonus = 0.01\n",
    "    \n",
    "    def __init__(self, saldo):\n",
    "        super().__init__(saldo)\n",
    "        self.__bonus = 0\n",
    "\n",
    "    # reescrita do método creditar\n",
    "    def creditar(self, valor):\n",
    "        # chama o método herdado para preservar\n",
    "        # comportamento herdado em relação aos\n",
    "        # atributos herdados (saldo e numero)\n",
    "        super().creditar(valor)\n",
    "        self.bonus = self.bonus + (valor * Conta_Especial.__taxa_bonus)\n",
    "        \n",
    "    # novo método\n",
    "    def render_bonus(self):\n",
    "        self.creditar(self.__bonus)\n",
    "        self.bonus = 0\n",
    "        \n",
    "    @property\n",
    "    def bonus(self):\n",
    "        return self.__bonus\n",
    "    \n",
    "    @bonus.setter\n",
    "    def bonus(self, bonus):\n",
    "        self.__bonus = bonus"
   ]
  },
  {
   "cell_type": "markdown",
   "metadata": {},
   "source": [
    "Testando a nova classe:"
   ]
  },
  {
   "cell_type": "code",
   "execution_count": 131,
   "metadata": {},
   "outputs": [
    {
     "name": "stdout",
     "output_type": "stream",
     "text": [
      "Criou conta_especial\n",
      "{'_Conta__saldo': 500, '_Conta__numero': 57, '_Conta_Especial__bonus': 0}\n",
      "\n",
      "Creditou\n",
      "{'_Conta__saldo': 520, '_Conta__numero': 57, '_Conta_Especial__bonus': 0.2}\n",
      "\n",
      "Rendeu bonus\n",
      "{'_Conta__saldo': 520.2, '_Conta__numero': 57, '_Conta_Especial__bonus': 0}\n"
     ]
    }
   ],
   "source": [
    "conta_especial = Conta_Especial(500)\n",
    "print('Criou conta_especial')\n",
    "print(vars(conta_especial))\n",
    "\n",
    "conta_especial.creditar(20)\n",
    "print('\\nCreditou')\n",
    "print(vars(conta_especial))\n",
    "\n",
    "conta_especial.render_bonus()\n",
    "print('\\nRendeu bonus')\n",
    "print(vars(conta_especial))\n"
   ]
  },
  {
   "cell_type": "markdown",
   "metadata": {},
   "source": [
    "## Classes Abstratas\n",
    "\n",
    "Adivinhe!!!\n",
    "\n",
    "Surge um novo requisito na aplicação bancária!\n",
    "\n",
    "Para cada débito feito em um tipo de conta, chamada *Conta_Imposto*, temos de cobrar um imposto.\n",
    "\n",
    "<img  src=\"./imagens/ClasseAbstrata1.png\" width=\"700\" />\n",
    "\n",
    "Sem pensar muito :-( alguém poderia fornecer a seguinte implementação:"
   ]
  },
  {
   "cell_type": "code",
   "execution_count": 134,
   "metadata": {},
   "outputs": [],
   "source": [
    "class Conta_Imposto(Conta):\n",
    "    \n",
    "    __taxa_imposto = 0.01\n",
    "    \n",
    "    def __init__(self, valor):\n",
    "        super().__init__(valor)\n",
    "    \n",
    "    # reescrita do método debitar\n",
    "    def debitar(self, valor):\n",
    "        imposto = valor * Conta_Imposto.__taxa_imposto\n",
    "        super().debitar(valor + imposto)"
   ]
  },
  {
   "cell_type": "markdown",
   "metadata": {},
   "source": [
    "Vamos testar!"
   ]
  },
  {
   "cell_type": "code",
   "execution_count": 135,
   "metadata": {},
   "outputs": [
    {
     "name": "stdout",
     "output_type": "stream",
     "text": [
      "Criou conta_especial\n",
      "{'_Conta__saldo': 500, '_Conta__numero': 58}\n",
      "\n",
      "Creditou\n",
      "{'_Conta__saldo': 479.8, '_Conta__numero': 58}\n"
     ]
    }
   ],
   "source": [
    "conta_imposto = Conta_Imposto(500)\n",
    "print('Criou conta_especial')\n",
    "print(vars(conta_imposto))\n",
    "\n",
    "conta_imposto.debitar(20)\n",
    "print('\\nCreditou')\n",
    "print(vars(conta_imposto))"
   ]
  },
  {
   "cell_type": "markdown",
   "metadata": {},
   "source": [
    "Tudo funcionou como esperado! \n",
    "\n",
    "Porém, lembre-se:\n",
    "\n",
    "*Redefinições de métodos devem preservar o comportamento (semântica) do método original em relação aos e atributos herdado.*\n",
    "\n",
    "Essa regra tem grande impacto sobre manutenção/evolução de software. É essencial para preservar a noção de subtipos a ser mantida em uma hieraquia de classes.\n",
    "\n",
    "Portanto, existe um problema conceitual no código acima. Ocorreu uma **quebra da noçao de subtipos**. \n",
    "\n",
    "<img  src=\"./imagens/hieraquiaClasses.png\" width=\"350\" />\n",
    "\n",
    "Apesar disso, notamos que a maior parte do código de *Conta_Imposto* é **idêntica** ao código de *Conta*. Portanto, queremos reusar o código de *Conta* sem quebrar a noção de subtipos.\n",
    "\n",
    "**O que fazer?** <img  src=\"./imagens/imoji duvida.png\" width=\"50\" />\n",
    "\n",
    "O que existe de comum entre *Conta* e *Conta_Imposto*?\n",
    "\n",
    "Vamos criar uma nova classe que contenha essa parte em comum. *Conta* e *Conta_Imposto* devem herdar dessa nova classe, que chamaremos de *Conta_Abstrata*:\n",
    "\n",
    "<img  src=\"./imagens/ClasseAbstrata2.png\" width=\"350\" />\n",
    "\n",
    "**Atenção:** *debitar* é diferente nas duas classes, mas ambas as contas devem permitir debitar um valor.\n",
    "\n",
    "Nosso objetivo pode ser alcançado com um conceito chamado **classe abstrata**, que contém *um ou mais* métodos não implementados, denominados de *métodos abstratos*.\n",
    "\n",
    "Para definirmos uma classe abstrata, faremos uso do módulo Python classe `abc.ABC` (*Abstract Base Classe*), que deve ser herdada por todas as classes abstratas. Portanto, a classe *Conta_Abstrata* iniciará sua definição como segue:\n",
    "``` python\n",
    "# importação da classe abc\n",
    "from abc import ABC\n",
    "\n",
    "# definição da classe abstrata\n",
    "class Conta_Abstrata(ABC):\n",
    "```\n",
    "O restante da implementação de *Conta_Abstrata* continua exatamente como estava em *Conta*. A menos do método *debitar*, que será abstrato. Para tanto, empregaremos o decorator *@abstractmethod*. A implementação terá o seguinte formato:\n",
    "``` python\n",
    "from abc import ABC\n",
    "\n",
    "class Conta_Abstrata(ABC):\n",
    "\n",
    "    # código similar a Conta, \n",
    "    # a menos em relação a debitar\n",
    "    \n",
    "    # definindo o método abstrato \n",
    "    @abstractmethod\n",
    "    def debitar(self):\n",
    "        pass\n",
    "```\n",
    "O código completo de *Conta_Abstrato* terá a seguinte forma:"
   ]
  },
  {
   "cell_type": "code",
   "execution_count": 174,
   "metadata": {},
   "outputs": [],
   "source": [
    "# importação da classe ABC\n",
    "from abc import ABC\n",
    "\n",
    "# definição da classe abstrata\n",
    "class Conta_Abstrata(ABC):\n",
    "    \n",
    "    __num_contas = 0 \n",
    "    \n",
    "    def __init__(self, saldo):\n",
    "        self.__saldo = saldo\n",
    "        self.__numero = Conta.__num_contas\n",
    "        Conta.__num_contas += 1\n",
    "        \n",
    "    @classmethod    \n",
    "    def get_num_contas(cls):\n",
    "        return cls.__num_contas\n",
    "    \n",
    "    def creditar(self, valor):\n",
    "        self.__saldo += valor\n",
    "        \n",
    "    # definindo o método abstrato \n",
    "    @abstractmethod\n",
    "    def debitar(self):\n",
    "        pass\n",
    "\n",
    "    @property\n",
    "    def numero(self):\n",
    "        return self.__numero\n",
    "    \n",
    "    @property\n",
    "    def saldo(self):\n",
    "        return self.__saldo  \n",
    "    \n",
    "    # incluído para ser utilizado nas classes\n",
    "    # filhas para implementação de debitar\n",
    "    @saldo.setter\n",
    "    def saldo(self, saldo):\n",
    "        self.__saldo = saldo"
   ]
  },
  {
   "cell_type": "markdown",
   "metadata": {},
   "source": [
    "Como *Conta_Abstrata* possui um método não implementado (*debitar*), ela não pode ser instanciada. Se tentarmos intanciar *Conta_Abstrata*...\n",
    "``` python\n",
    "conta_abstrata = Conta_Abstrata(500)\n",
    "```\n",
    "receberemos a mensagem de erro:\n",
    "``` python\n",
    "TypeError: Can't instantiate abstract class Conta_Abstrata with abstract methods debitar\n",
    "```\n",
    "Com a classe abstrata definida, podemos reusar o código de *Conta_Abstrata* através da herança para implementar *Conta*, *Conta_Imposto*, *Poupanca* e *Conta_Especial* sem quebrar a noção de subtipo.\n",
    "\n",
    "Note, porém, que *Conta*, *Conta_Imposto*, que herdam diretamente de *Conta_Abstrata* **tem obrigação** de implementar o método abstrato *debitar*, que fará uma alteração no atributo herdado *saldo*. Para isso, precisamos incluir um decorator @setter para o atributo *saldo*.\n",
    "\n",
    "A seguir, apresentamos a implementação das classess *Conta*, *Conta_Imposto*, *Poupanca* e *Conta_Especial*"
   ]
  },
  {
   "cell_type": "code",
   "execution_count": 189,
   "metadata": {},
   "outputs": [],
   "source": [
    "class Conta(Conta_Abstrata):\n",
    "    \n",
    "    def __init__(self, valor):\n",
    "        super().__init__(valor)\n",
    "        \n",
    "    # implementação do método abstrato    \n",
    "    def debitar(self, valor):\n",
    "        self.saldo = self.saldo - valor\n",
    "        \n",
    "class Conta_Imposto(Conta_Abstrata):\n",
    "    \n",
    "    __taxa_imposto = 0.01\n",
    "    def __init__(self, valor):\n",
    "        super().__init__(valor)\n",
    "        \n",
    "    # implementação do método abstrato    \n",
    "    def debitar(self, valor):\n",
    "        imposto = valor * Conta_Imposto.__taxa_imposto\n",
    "        self.saldo = self.saldo - (valor + imposto)\n",
    "\n",
    "# nada muda em Poupanca, pois ela \n",
    "# continua herdando de Conta\n",
    "class Poupanca(Conta):\n",
    "        \n",
    "    def __init__(self, saldo, taxa_juros):\n",
    "        super().__init__(saldo)\n",
    "        self.__taxa_juros = taxa_juros\n",
    "\n",
    "    def render_juros(self):\n",
    "        self.creditar(self.saldo * self.__taxa_juros)\n",
    "        \n",
    "    @property\n",
    "    def taxa_juros(self):\n",
    "        return self.__taxa_juros\n",
    "    \n",
    "    @taxa_juros.setter\n",
    "    def taxa_juros(self, taxa_juros):\n",
    "        self.__taxa_juros = taxa_juros\n",
    "                                   \n",
    "# nada muda em Conta_Especial, pois  \n",
    "# ela continua herdando de Conta\n",
    "class Conta_Especial(Conta):\n",
    "    \n",
    "    __taxa_bonus = 0.01\n",
    "    \n",
    "    def __init__(self, saldo):\n",
    "        super().__init__(saldo)\n",
    "        self.__bonus = 0\n",
    "\n",
    "    def creditar(self, valor):\n",
    "        super().creditar(valor)\n",
    "        self.bonus = self.bonus + (valor * Conta_Especial.__taxa_bonus)\n",
    "        \n",
    "    def render_bonus(self):\n",
    "        self.creditar(self.__bonus)\n",
    "        self.bonus = 0\n",
    "        \n",
    "    @property\n",
    "    def bonus(self):\n",
    "        return self.__bonus\n",
    "    \n",
    "    @bonus.setter\n",
    "    def bonus(self, bonus):\n",
    "        self.__bonus = bonus"
   ]
  },
  {
   "cell_type": "markdown",
   "metadata": {},
   "source": [
    "Vamos testar:"
   ]
  },
  {
   "cell_type": "code",
   "execution_count": 190,
   "metadata": {},
   "outputs": [
    {
     "name": "stdout",
     "output_type": "stream",
     "text": [
      "Criou conta\n",
      "conta:  {'_Conta_Abstrata__saldo': 500.0, '_Conta_Abstrata__numero': 0}\n",
      "\n",
      "Creditou\n",
      "conta:  {'_Conta_Abstrata__saldo': 700.0, '_Conta_Abstrata__numero': 0}\n",
      "\n",
      "Debitou\n",
      "conta:  {'_Conta_Abstrata__saldo': 500.0, '_Conta_Abstrata__numero': 0}\n"
     ]
    }
   ],
   "source": [
    "# cria objeto conta\n",
    "conta = Conta(500.0)\n",
    "print('Criou conta')\n",
    "print('conta: ',vars(conta))\n",
    "\n",
    "conta.creditar(200.0)\n",
    "print('\\nCreditou')\n",
    "print('conta: ',vars(conta))\n",
    "\n",
    "conta.debitar(200.0)\n",
    "print('\\nDebitou')\n",
    "print('conta: ',vars(conta))"
   ]
  },
  {
   "cell_type": "code",
   "execution_count": 191,
   "metadata": {},
   "outputs": [
    {
     "name": "stdout",
     "output_type": "stream",
     "text": [
      "Criou conta_imposto\n",
      "conta_imposto:  {'_Conta_Abstrata__saldo': 500.0, '_Conta_Abstrata__numero': 1}\n",
      "\n",
      "Creditou\n",
      "conta_imposto:  {'_Conta_Abstrata__saldo': 700.0, '_Conta_Abstrata__numero': 1}\n",
      "\n",
      "Debitou\n",
      "conta_imposto:  {'_Conta_Abstrata__saldo': 498.0, '_Conta_Abstrata__numero': 1}\n"
     ]
    }
   ],
   "source": [
    "# cria objeto conta_imposto\n",
    "conta_imposto = Conta_Imposto(500.0)\n",
    "print('Criou conta_imposto')\n",
    "print('conta_imposto: ',vars(conta_imposto))\n",
    "\n",
    "conta_imposto.creditar(200.0)\n",
    "print('\\nCreditou')\n",
    "print('conta_imposto: ',vars(conta_imposto))\n",
    "\n",
    "conta_imposto.debitar(200.0)\n",
    "print('\\nDebitou')\n",
    "print('conta_imposto: ',vars(conta_imposto))"
   ]
  },
  {
   "cell_type": "code",
   "execution_count": 186,
   "metadata": {},
   "outputs": [
    {
     "name": "stdout",
     "output_type": "stream",
     "text": [
      "Criou poupanca\n",
      "poupanca:  {'_Conta_Abstrata__saldo': 500.0, '_Conta_Abstrata__numero': 2, '_Poupanca__taxa_juros': 0.01}\n",
      "\n",
      "Creditou\n",
      "poupanca:  {'_Conta_Abstrata__saldo': 700.0, '_Conta_Abstrata__numero': 2, '_Poupanca__taxa_juros': 0.01}\n",
      "\n",
      "Debitou\n",
      "poupanca:  {'_Conta_Abstrata__saldo': 500.0, '_Conta_Abstrata__numero': 2, '_Poupanca__taxa_juros': 0.01}\n",
      "\n",
      "Rendeu Juros\n",
      "poupanca:  {'_Conta_Abstrata__saldo': 505.0, '_Conta_Abstrata__numero': 2, '_Poupanca__taxa_juros': 0.01}\n"
     ]
    }
   ],
   "source": [
    "# cria objeto poupanca\n",
    "poupanca = Poupanca(500.0,0.01)\n",
    "print('Criou poupanca')\n",
    "print('poupanca: ',vars(poupanca))\n",
    "\n",
    "poupanca.creditar(200.0)\n",
    "print('\\nCreditou')\n",
    "print('poupanca: ',vars(poupanca))\n",
    "\n",
    "poupanca.debitar(200.0)\n",
    "print('\\nDebitou')\n",
    "print('poupanca: ',vars(poupanca))\n",
    "\n",
    "poupanca.render_juros()\n",
    "print('\\nRendeu Juros')\n",
    "print('poupanca: ',vars(poupanca))"
   ]
  },
  {
   "cell_type": "code",
   "execution_count": 192,
   "metadata": {},
   "outputs": [
    {
     "name": "stdout",
     "output_type": "stream",
     "text": [
      "Criou conta_especial\n",
      "conta_especial:  {'_Conta_Abstrata__saldo': 500.0, '_Conta_Abstrata__numero': 2, '_Conta_Especial__bonus': 0}\n",
      "\n",
      "Creditou\n",
      "conta_especial:  {'_Conta_Abstrata__saldo': 700.0, '_Conta_Abstrata__numero': 2, '_Conta_Especial__bonus': 2.0}\n",
      "\n",
      "Debitou\n",
      "conta_especial:  {'_Conta_Abstrata__saldo': 700.0, '_Conta_Abstrata__numero': 2, '_Conta_Especial__bonus': 2.0}\n",
      "\n",
      "Rendeu Bônus\n",
      "conta_especial:  {'_Conta_Abstrata__saldo': 702.0, '_Conta_Abstrata__numero': 2, '_Conta_Especial__bonus': 0}\n"
     ]
    }
   ],
   "source": [
    "# cria objeto conta_especial\n",
    "conta_especial = Conta_Especial(500.0)\n",
    "print('Criou conta_especial')\n",
    "print('conta_especial: ',vars(conta_especial))\n",
    "\n",
    "conta_especial.creditar(200.0)\n",
    "print('\\nCreditou')\n",
    "print('conta_especial: ',vars(conta_especial))\n",
    "\n",
    "poupanca.debitar(200.0)\n",
    "print('\\nDebitou')\n",
    "print('conta_especial: ',vars(conta_especial))\n",
    "\n",
    "conta_especial.render_bonus()\n",
    "print('\\nRendeu Bônus')\n",
    "print('conta_especial: ',vars(conta_especial))"
   ]
  }
 ],
 "metadata": {
  "kernelspec": {
   "display_name": "Python 3",
   "language": "python",
   "name": "python3"
  },
  "language_info": {
   "codemirror_mode": {
    "name": "ipython",
    "version": 3
   },
   "file_extension": ".py",
   "mimetype": "text/x-python",
   "name": "python",
   "nbconvert_exporter": "python",
   "pygments_lexer": "ipython3",
   "version": "3.7.3"
  }
 },
 "nbformat": 4,
 "nbformat_minor": 2
}
