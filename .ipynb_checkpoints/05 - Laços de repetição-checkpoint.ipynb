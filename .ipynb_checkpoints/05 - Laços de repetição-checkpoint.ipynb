{
 "cells": [
  {
   "cell_type": "markdown",
   "metadata": {},
   "source": [
    "# Aula 05\n",
    "\n",
    "## Laços de Repetição\n",
    "\n",
    "### While\n",
    "\n",
    "A000 execução das instruções no bloco de comandos é repetida enquanto uma condição (EXP_BOOL) for verdadeira.\n",
    "\n",
    "<img  src=\"./imagens/while.png\" width=\"600\" />\n",
    "\n",
    "Vamos ver um exemplo."
   ]
  },
  {
   "cell_type": "code",
   "execution_count": 4,
   "metadata": {},
   "outputs": [
    {
     "name": "stdout",
     "output_type": "stream",
     "text": [
      "Deseja continuar?\n",
      "sim\n",
      "Ok! Vamos continuar.\n"
     ]
    }
   ],
   "source": [
    "resp = input(\"Deseja continuar?\\n\")\n",
    "\n",
    "while( (resp != \"sim\") and ( resp != \"não\")):\n",
    "    print(\"Resposta inválida!!!\")\n",
    "    resp = input(\"Deseja continuar?\\n\")\n",
    "else:\n",
    "    if(resp == \"sim\"):\n",
    "        print(\"Ok! Vamos continuar.\")\n",
    "    else:\n",
    "        print(\"Obrigado e até logo!\")"
   ]
  },
  {
   "cell_type": "markdown",
   "metadata": {},
   "source": [
    "#### Exercício - Adivinhe o número sorteado\n",
    "<img  src=\"./imagens/sorteio.png\" align=\"right\" width=\"100\" />\n",
    "\n",
    "Sua tarefa é criar um jogo que vai sortear um número entre 0 e 100 e perguntar ao jogador qual foi o número sorteado.  \n",
    "\n",
    "Caso ele chute um número maior, você dá uma dica, informando que ele deve tentar um número menor. Faz o inverso, caso ele digite um número menor.  \n",
    "\n",
    "O programa só termina quando o jogador acertar.\n",
    "\n",
    "utilize a função `randint`para gerar um número aleatório. Veja como ela funciona:"
   ]
  },
  {
   "cell_type": "code",
   "execution_count": 8,
   "metadata": {},
   "outputs": [
    {
     "data": {
      "text/plain": [
       "93"
      ]
     },
     "execution_count": 8,
     "metadata": {},
     "output_type": "execute_result"
    }
   ],
   "source": [
    "from random import randint\n",
    "\n",
    "# gera número inteiro aleatório entre 0 e 100\n",
    "num = randint(0,100)\n",
    "num"
   ]
  },
  {
   "cell_type": "markdown",
   "metadata": {},
   "source": [
    "#### Solução"
   ]
  },
  {
   "cell_type": "code",
   "execution_count": null,
   "metadata": {},
   "outputs": [],
   "source": [
    "from random import randint\n",
    "\n",
    "# gera número inteiro aleatório entre 0 e 100\n",
    "num = randint(0,100)\n",
    "\n",
    "acertou = False\n",
    "chute = int(input(\"Digite um número inteiro no intervalo [0-100]: \"))\n",
    "\n",
    "# início do while\n",
    "while (not acertou):\n",
    "    if (chute == num):\n",
    "        print(\"Parabéns, você acertou o número!\")\n",
    "        acertou = True\n",
    "    elif(chute > num):\n",
    "        chute = int(input(\"Tente um número menor: \"))\n",
    "    else:  \n",
    "        chute = int(input(\"Tente um número maior: \"))\n",
    "else:\n",
    "    print(\"Fim de joto!\")\n",
    "# Fim do while\n",
    "\n",
    "print(\"Seu programa continuaria aqui quando o while terminar\")\n",
    "\n"
   ]
  }
 ],
 "metadata": {
  "kernelspec": {
   "display_name": "Python 3",
   "language": "python",
   "name": "python3"
  },
  "language_info": {
   "codemirror_mode": {
    "name": "ipython",
    "version": 3
   },
   "file_extension": ".py",
   "mimetype": "text/x-python",
   "name": "python",
   "nbconvert_exporter": "python",
   "pygments_lexer": "ipython3",
   "version": "3.7.3"
  }
 },
 "nbformat": 4,
 "nbformat_minor": 2
}
