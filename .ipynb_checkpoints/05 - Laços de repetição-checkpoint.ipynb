{
 "cells": [
  {
   "cell_type": "markdown",
   "metadata": {},
   "source": [
    "# Aula 05\n",
    "\n",
    "## Laços de Repetição\n",
    "\n",
    "### While\n",
    "\n",
    "A execução das instruções no bloco de comandos é repetida enquanto uma condição (EXP_BOOL) for verdadeira.\n",
    "\n",
    "<img  src=\"./imagens/while.png\" width=\"600\" />\n",
    "\n",
    "Vamos ver um exemplo."
   ]
  },
  {
   "cell_type": "code",
   "execution_count": 4,
   "metadata": {},
   "outputs": [
    {
     "name": "stdout",
     "output_type": "stream",
     "text": [
      "Deseja continuar?\n",
      "sim\n",
      "Ok! Vamos continuar.\n"
     ]
    }
   ],
   "source": [
    "resp = input(\"Deseja continuar?\\n\")\n",
    "\n",
    "while( (resp != \"sim\") and ( resp != \"não\")):\n",
    "    print(\"Resposta inválida!!!\")\n",
    "    resp = input(\"Deseja continuar?\\n\")\n",
    "else:\n",
    "    if(resp == \"sim\"):\n",
    "        print(\"Ok! Vamos continuar.\")\n",
    "    else:\n",
    "        print(\"Obrigado e até logo!\")"
   ]
  },
  {
   "cell_type": "markdown",
   "metadata": {},
   "source": [
    "#### Exercício - Adivinhe o número sorteado\n",
    "<img  src=\"./imagens/sorteio.png\" align=\"right\" width=\"100\" />\n",
    "\n",
    "Sua tarefa é criar um jogo que vai sortear um número entre 0 e 100 e perguntar ao jogador qual foi o número sorteado.  \n",
    "\n",
    "Caso ele chute um número maior, você dá uma dica, informando que ele deve tentar um número menor. Faz o inverso, caso ele digite um número menor.  \n",
    "\n",
    "O programa só termina quando o jogador acertar.\n",
    "\n",
    "utilize a função `randint`para gerar um número aleatório. Veja como ela funciona:"
   ]
  },
  {
   "cell_type": "code",
   "execution_count": 8,
   "metadata": {},
   "outputs": [
    {
     "data": {
      "text/plain": [
       "93"
      ]
     },
     "execution_count": 8,
     "metadata": {},
     "output_type": "execute_result"
    }
   ],
   "source": [
    "from random import randint\n",
    "\n",
    "# gera número inteiro aleatório entre 0 e 100\n",
    "num = randint(0,100)\n",
    "num"
   ]
  },
  {
   "cell_type": "markdown",
   "metadata": {},
   "source": [
    "#### Solução"
   ]
  },
  {
   "cell_type": "code",
   "execution_count": 1,
   "metadata": {},
   "outputs": [
    {
     "name": "stdout",
     "output_type": "stream",
     "text": [
      "Digite um número inteiro no intervalo [0-100]: 50\n",
      "Tente um número menor: 25\n",
      "Tente um número menor: 12\n",
      "Tente um número maior: 18\n",
      "Tente um número maior: 20\n",
      "Tente um número maior: 22\n",
      "Tente um número maior: 24\n",
      "Tente um número menor: 23\n",
      "Parabéns, você acertou o número!\n",
      "Fim de joto!\n",
      "Seu programa continuaria aqui quando o while terminar\n"
     ]
    }
   ],
   "source": [
    "from random import randint\n",
    "\n",
    "# gera número inteiro aleatório entre 0 e 100\n",
    "num = randint(0,100)\n",
    "\n",
    "acertou = False\n",
    "chute = int(input(\"Digite um número inteiro no intervalo [0-100]: \"))\n",
    "\n",
    "# início do while\n",
    "while (not acertou):\n",
    "    if (chute == num):\n",
    "        print(\"Parabéns, você acertou o número!\")\n",
    "        acertou = True\n",
    "    elif(chute > num):\n",
    "        chute = int(input(\"Tente um número menor: \"))\n",
    "    else:  \n",
    "        chute = int(input(\"Tente um número maior: \"))\n",
    "else:\n",
    "    print(\"Fim de joto!\")\n",
    "# Fim do while\n",
    "\n",
    "print(\"Seu programa continuaria aqui quando o while terminar\")\n",
    "\n"
   ]
  },
  {
   "cell_type": "markdown",
   "metadata": {},
   "source": [
    "#### Exercício - Números Ímpares\n",
    "Faça um programa para\n",
    "Ler um número inteiro maior que zero e menor que 100\n",
    "Imprimir todos os números ímpares seguintes até 100 (separados por “,” e o último finaliza com um ‘“.”)\n",
    "\n",
    "**Obs:** *O Operador % calcula o módulo da divisão:*\n",
    "- 10%2 é igual a 0\n",
    "- 11%2 é igual a 1\n",
    "\n",
    "##### Solução"
   ]
  },
  {
   "cell_type": "code",
   "execution_count": 7,
   "metadata": {},
   "outputs": [
    {
     "name": "stdout",
     "output_type": "stream",
     "text": [
      "Digite um interior no intervalo [0-100]: 40\n",
      "41,  43,  45,  47,  49,  51,  53,  55,  57,  59,  61,  63,  65,  67,  69,  71,  73,  75,  77,  79,  81,  83,  85,  87,  89,  91,  93,  95,  97,  99.\n"
     ]
    }
   ],
   "source": [
    "num = int(input(\"Digite um interior no intervalo [0-100]: \"))\n",
    "\n",
    "# se for par, vai para o próximo número ímpar\n",
    "if(num%2 == 0):\n",
    "    num += 1\n",
    "\n",
    "while(num<99):\n",
    "    print(f\"{num}, \", end=' ')\n",
    "    num += 2\n",
    "else:\n",
    "       print(f\"{num}.\")"
   ]
  },
  {
   "cell_type": "code",
   "execution_count": null,
   "metadata": {},
   "outputs": [],
   "source": [
    "Melhore seu programa, fazendo com que ele continue pedindo o número inteiro positivo enquanto o usuário não digitar um número maior que zero.\n",
    "\n",
    "##### Solução"
   ]
  },
  {
   "cell_type": "code",
   "execution_count": 9,
   "metadata": {},
   "outputs": [
    {
     "name": "stdout",
     "output_type": "stream",
     "text": [
      "Digite um interior no intervalo [0-100]: -1\n",
      "Intervalo Iválido!!!\n",
      "Digite um interior no intervalo [0-100]: 110\n",
      "Intervalo Iválido!!!\n",
      "Digite um interior no intervalo [0-100]: 40\n",
      "41,  43,  45,  47,  49,  51,  53,  55,  57,  59,  61,  63,  65,  67,  69,  71,  73,  75,  77,  79,  81,  83,  85,  87,  89,  91,  93,  95,  97,  99.\n"
     ]
    }
   ],
   "source": [
    "num = int(input(\"Digite um interior no intervalo [0-100]: \"))\n",
    "\n",
    "while( (num<0) or (num>100)):\n",
    "    print(\"Intervalo Iválido!!!\")\n",
    "    num = int(input(\"Digite um interior no intervalo [0-100]: \"))\n",
    "\n",
    "# se for par, vai para o próximo número ímpar\n",
    "if(num%2 == 0):\n",
    "    num += 1\n",
    "\n",
    "while(num<99):\n",
    "    print(f\"{num}, \", end=' ')\n",
    "    num += 2\n",
    "else:\n",
    "       print(f\"{num}.\")"
   ]
  },
  {
   "cell_type": "markdown",
   "metadata": {},
   "source": [
    "#### Exercício - Multiplicação com while\n",
    "Implemente um programa em Python para realizar uma operação de multiplicação através de múltiplas operações de soma.\n",
    "\n",
    "##### Solução"
   ]
  },
  {
   "cell_type": "code",
   "execution_count": 8,
   "metadata": {},
   "outputs": [
    {
     "name": "stdout",
     "output_type": "stream",
     "text": [
      "Digite o 1o operando: 2\n",
      "Digite o 2o operando: 3\n",
      "O resultado da multiplicação foi 6\n"
     ]
    }
   ],
   "source": [
    "op1 = int(input(\"Digite o 1o operando: \"))\n",
    "op2 = int(input(\"Digite o 2o operando: \"))\n",
    "resultado = 0\n",
    "\n",
    "# Início do while\n",
    "while (op1>0):\n",
    "    resultado += op2\n",
    "    op1 -= 1\n",
    "else:\n",
    "    print(f\"O resultado da multiplicação foi {resultado}\")"
   ]
  }
 ],
 "metadata": {
  "kernelspec": {
   "display_name": "Python 3",
   "language": "python",
   "name": "python3"
  },
  "language_info": {
   "codemirror_mode": {
    "name": "ipython",
    "version": 3
   },
   "file_extension": ".py",
   "mimetype": "text/x-python",
   "name": "python",
   "nbconvert_exporter": "python",
   "pygments_lexer": "ipython3",
   "version": "3.7.3"
  }
 },
 "nbformat": 4,
 "nbformat_minor": 2
}
